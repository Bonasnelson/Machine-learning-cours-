{
 "cells": [
  {
   "cell_type": "markdown",
   "metadata": {},
   "source": [
    " Random Forest (RF)"
   ]
  },
  {
   "cell_type": "markdown",
   "metadata": {},
   "source": [
    "importation of libraries"
   ]
  },
  {
   "cell_type": "code",
   "execution_count": 1,
   "metadata": {},
   "outputs": [],
   "source": [
    "import numpy as np\n",
    "import pandas as pd\n",
    "from sklearn.metrics import confusion_matrix\n",
    "from sklearn.model_selection import train_test_split\n",
    "from sklearn.ensemble import RandomForestClassifier\n",
    "from sklearn.metrics import classification_report\n",
    "from sklearn.model_selection import GridSearchCV\n",
    "import matplotlib.pyplot as plt"
   ]
  },
  {
   "cell_type": "markdown",
   "metadata": {},
   "source": [
    "loading of data"
   ]
  },
  {
   "cell_type": "code",
   "execution_count": 2,
   "metadata": {},
   "outputs": [],
   "source": [
    "data = pd.read_csv('../dataset/heart.csv')"
   ]
  },
  {
   "cell_type": "code",
   "execution_count": 3,
   "metadata": {},
   "outputs": [],
   "source": [
    "df = pd.get_dummies(data)\n"
   ]
  },
  {
   "cell_type": "code",
   "execution_count": 4,
   "metadata": {},
   "outputs": [],
   "source": [
    "X = df.drop(['HeartDisease'], axis = 1)\n",
    "y = df.HeartDisease"
   ]
  },
  {
   "cell_type": "markdown",
   "metadata": {},
   "source": [
    "division of the model ino train and tet set"
   ]
  },
  {
   "cell_type": "code",
   "execution_count": 5,
   "metadata": {},
   "outputs": [],
   "source": [
    "\n",
    "X_train, X_test, y_train, y_test = train_test_split(X, y, test_size=0.3, random_state=2)"
   ]
  },
  {
   "cell_type": "markdown",
   "metadata": {},
   "source": [
    "the random forest part"
   ]
  },
  {
   "cell_type": "code",
   "execution_count": 6,
   "metadata": {},
   "outputs": [
    {
     "data": {
      "text/plain": [
       "RandomForestClassifier()"
      ]
     },
     "execution_count": 6,
     "metadata": {},
     "output_type": "execute_result"
    }
   ],
   "source": [
    "\n",
    "model = RandomForestClassifier()\n",
    "model.fit(X_train, y_train)\n"
   ]
  },
  {
   "cell_type": "code",
   "execution_count": 7,
   "metadata": {},
   "outputs": [
    {
     "data": {
      "text/plain": [
       "array([[104,  29],\n",
       "       [ 14, 129]], dtype=int64)"
      ]
     },
     "execution_count": 7,
     "metadata": {},
     "output_type": "execute_result"
    }
   ],
   "source": [
    "\n",
    "confusion_matrix(y_test, model.predict(X_test))\n",
    "\n"
   ]
  },
  {
   "cell_type": "code",
   "execution_count": 8,
   "metadata": {},
   "outputs": [
    {
     "data": {
      "text/plain": [
       "'              precision    recall  f1-score   support\\n\\n           0       0.88      0.78      0.83       133\\n           1       0.82      0.90      0.86       143\\n\\n    accuracy                           0.84       276\\n   macro avg       0.85      0.84      0.84       276\\nweighted avg       0.85      0.84      0.84       276\\n'"
      ]
     },
     "execution_count": 8,
     "metadata": {},
     "output_type": "execute_result"
    }
   ],
   "source": [
    "classification_report(y_test, model.predict(X_test))"
   ]
  },
  {
   "cell_type": "code",
   "execution_count": 9,
   "metadata": {},
   "outputs": [],
   "source": [
    "# Definition of hyperparameters\n",
    "n_estimators = [int(x) for x in np.linspace(10, 30, 10)]\n",
    "max_features = ['auto', 'sqrt']\n",
    "max_depth = [2, 10]\n",
    "min_samples_split = [2, 5]\n",
    "min_samples_leaf = [1, 2]\n",
    "criterion = ['gini', 'entropy']\n",
    "bootstrap = [True, False]"
   ]
  },
  {
   "cell_type": "code",
   "execution_count": 10,
   "metadata": {},
   "outputs": [],
   "source": [
    "params_grid = {'n_estimators': n_estimators, \n",
    "               'max_features': max_features,\n",
    "               'max_depth': max_depth,\n",
    "               'min_samples_split': min_samples_split,\n",
    "               'min_samples_leaf': min_samples_leaf,\n",
    "               'criterion': criterion,\n",
    "               'bootstrap': bootstrap\n",
    "              }"
   ]
  },
  {
   "cell_type": "code",
   "execution_count": 11,
   "metadata": {},
   "outputs": [],
   "source": [
    "list_best_param = []\n",
    "list_best_scoores = []\n",
    "for i in range(2, 4): \n",
    "    df_grid = GridSearchCV(estimator=model, param_grid= params_grid, cv= i)\n",
    "    df_grid.fit(X_train, y_train)\n",
    "    list_best_param.append(df_grid.best_params_)\n",
    "    list_best_scoores.append(df_grid.best_score_)\n",
    "    "
   ]
  },
  {
   "cell_type": "code",
   "execution_count": 12,
   "metadata": {},
   "outputs": [
    {
     "name": "stdout",
     "output_type": "stream",
     "text": [
      "[{'bootstrap': True, 'criterion': 'gini', 'max_depth': 10, 'max_features': 'auto', 'min_samples_leaf': 1, 'min_samples_split': 2, 'n_estimators': 30}, {'bootstrap': True, 'criterion': 'entropy', 'max_depth': 10, 'max_features': 'auto', 'min_samples_leaf': 2, 'min_samples_split': 2, 'n_estimators': 16}]\n",
      "[0.8878504672897196, 0.883177570093458]\n"
     ]
    }
   ],
   "source": [
    "print(list_best_param)\n",
    "print(list_best_scoores)"
   ]
  },
  {
   "cell_type": "code",
   "execution_count": 13,
   "metadata": {},
   "outputs": [
    {
     "data": {
      "text/html": [
       "<div>\n",
       "<style scoped>\n",
       "    .dataframe tbody tr th:only-of-type {\n",
       "        vertical-align: middle;\n",
       "    }\n",
       "\n",
       "    .dataframe tbody tr th {\n",
       "        vertical-align: top;\n",
       "    }\n",
       "\n",
       "    .dataframe thead th {\n",
       "        text-align: right;\n",
       "    }\n",
       "</style>\n",
       "<table border=\"1\" class=\"dataframe\">\n",
       "  <thead>\n",
       "    <tr style=\"text-align: right;\">\n",
       "      <th></th>\n",
       "      <th>Best score</th>\n",
       "    </tr>\n",
       "  </thead>\n",
       "  <tbody>\n",
       "    <tr>\n",
       "      <th>2</th>\n",
       "      <td>0.887850</td>\n",
       "    </tr>\n",
       "    <tr>\n",
       "      <th>3</th>\n",
       "      <td>0.883178</td>\n",
       "    </tr>\n",
       "  </tbody>\n",
       "</table>\n",
       "</div>"
      ],
      "text/plain": [
       "   Best score\n",
       "2    0.887850\n",
       "3    0.883178"
      ]
     },
     "execution_count": 13,
     "metadata": {},
     "output_type": "execute_result"
    }
   ],
   "source": [
    "pd.DataFrame(list_best_scoores, index = range(2,4), \n",
    "            columns = ['Best score']).sort_index()"
   ]
  },
  {
   "cell_type": "code",
   "execution_count": 14,
   "metadata": {},
   "outputs": [],
   "source": [
    "best_score_index = 0\n",
    "for i in list_best_scoores:\n",
    "    if i > i+1:\n",
    "        best_score_index = i.index\n"
   ]
  },
  {
   "cell_type": "code",
   "execution_count": 15,
   "metadata": {},
   "outputs": [
    {
     "data": {
      "text/plain": [
       "{'bootstrap': True,\n",
       " 'criterion': 'gini',\n",
       " 'max_depth': 10,\n",
       " 'max_features': 'auto',\n",
       " 'min_samples_leaf': 1,\n",
       " 'min_samples_split': 2,\n",
       " 'n_estimators': 30}"
      ]
     },
     "execution_count": 15,
     "metadata": {},
     "output_type": "execute_result"
    }
   ],
   "source": [
    "list_best_param[best_score_index]"
   ]
  },
  {
   "cell_type": "code",
   "execution_count": 40,
   "metadata": {},
   "outputs": [],
   "source": [
    "def best_param_for_Random_Forest(number_cv=2):\n",
    "    n_estimators = [int(x) for x in np.linspace(10, 20, 10)]\n",
    "    max_features = ['auto', 'sqrt']\n",
    "    max_depth = [2, 10]\n",
    "    min_samples_split = [2, 5]\n",
    "    min_samples_leaf = [1, 2]\n",
    "    criterion = ['gini', 'entropy']\n",
    "    bootstrap = [True, False]\n",
    "    params_grid = {'n_estimators': n_estimators, \n",
    "               'max_features': max_features,\n",
    "               'max_depth': max_depth,\n",
    "               'min_samples_split': min_samples_split,\n",
    "               'min_samples_leaf': min_samples_leaf,\n",
    "               'criterion': criterion,\n",
    "               'bootstrap': bootstrap\n",
    "              }\n",
    "    # grid sarch\n",
    "    list_best_param = []\n",
    "    list_best_scores = []\n",
    "    list_best_test_scores = []\n",
    "    indexs = [i for i in range(2, number_cv+1)]\n",
    "    for i in range(2, number_cv+1):   \n",
    "        df_grid = GridSearchCV(estimator=model, param_grid= params_grid, cv= i)\n",
    "        df_grid.fit(X_train, y_train)\n",
    "        list_best_param.append(df_grid.best_params_)\n",
    "        list_best_scores.append(df_grid.best_score_)\n",
    "        list_best_test_scores.append(df_grid.score(X_test, y_test))\n",
    "# crate a data frame with the cv and the bst score\n",
    "    print(pd.DataFrame(list_best_scores, index = range(2, number_cv+1), \n",
    "            columns = ['Best score']).sort_values(by=['Best score'], ascending= False))\n",
    "  \n",
    "\n",
    "# # best score\n",
    "    best = max(list_best_scores)\n",
    "    print('best score: ',best)\n",
    "# give the bst params\n",
    "    print('best params are : ',list_best_param[list_best_scores.index(best)])\n",
    "    \n",
    "    plt.plot(indexs, list_best_scores, label=\"train best score\")\n",
    "    plt.plot(indexs, list_best_test_scores, label=\"test score\")\n",
    "    plt.ylabel(\"score\")\n",
    "    plt.xlabel(\"cv\")\n",
    "    plt.legend()"
   ]
  },
  {
   "cell_type": "code",
   "execution_count": 39,
   "metadata": {},
   "outputs": [
    {
     "name": "stdout",
     "output_type": "stream",
     "text": [
      "   Best score\n",
      "3    0.884735\n",
      "2    0.883178\n",
      "5    0.880039\n",
      "4    0.878465\n",
      "best score:  0.8847352024922118\n",
      "best params are :  {'bootstrap': True, 'criterion': 'entropy', 'max_depth': 10, 'max_features': 'sqrt', 'min_samples_leaf': 2, 'min_samples_split': 5, 'n_estimators': 15}\n"
     ]
    },
    {
     "data": {
      "image/png": "[encoded data removed]",
      "text/plain": [
       "<Figure size 432x288 with 1 Axes>"
      ]
     },
     "metadata": {
      "needs_background": "light"
     },
     "output_type": "display_data"
    }
   ],
   "source": [
    "best_param_for_Random_Forest(number_cv = 5)"
   ]
  },
  {
   "cell_type": "code",
   "execution_count": null,
   "metadata": {},
   "outputs": [],
   "source": [
    "# plt.plot(neighbors_settings, training_accuracy, label=\"training accuracy\") \n",
    "# plt.plot(neighbors_settings, test_accuracy, label=\"test accuracy\") \n",
    "# plt.ylabel(\"Accuracy\") \n",
    "# plt.xlabel(\"n_neighbors\") \n",
    "# plt.legend() "
   ]
  }
 ],
 "metadata": {
  "interpreter": {
   "hash": "aa7146d4c1a12161272e7931a5de19d4c46ea1ea93acbb11666f6ac8b35f8224"
  },
  "kernelspec": {
   "display_name": "Python 3.9.2 64-bit",
   "language": "python",
   "name": "python3"
  },
  "language_info": {
   "codemirror_mode": {
    "name": "ipython",
    "version": 3
   },
   "file_extension": ".py",
   "mimetype": "text/x-python",
   "name": "python",
   "nbconvert_exporter": "python",
   "pygments_lexer": "ipython3",
   "version": "3.9.2"
  },
  "orig_nbformat": 4
 },
 "nbformat": 4,
 "nbformat_minor": 2
}
