{
 "cells": [
  {
   "cell_type": "markdown",
   "id": "b3c29b28",
   "metadata": {},
   "source": [
    "www.anaconda.com/products/individual\n",
    "\n",
    "\n",
    "More Understanding sklearn:\n",
    "https://scikit-learn.org/\n",
    "\n",
    "If I need to create Dummies Variables: pd.get_dummies(df) where df is the data frame.\n",
    "\n",
    "Example of Blog for research: https://miradain.eu/"
   ]
  },
  {
   "cell_type": "markdown",
   "id": "8338d3f2",
   "metadata": {},
   "source": [
    "# Introduction à Python"
   ]
  },
  {
   "cell_type": "markdown",
   "id": "d0e8d88b",
   "metadata": {},
   "source": [
    "***Les Variables***"
   ]
  },
  {
   "cell_type": "code",
   "execution_count": 1,
   "id": "3a1a7333",
   "metadata": {},
   "outputs": [
    {
     "name": "stdout",
     "output_type": "stream",
     "text": [
      "1.5\n",
      "2.7\n"
     ]
    }
   ],
   "source": [
    "a = 1.5\n",
    "b=2.7\n",
    "c=3\n",
    "print(a)\n",
    "print(b)"
   ]
  },
  {
   "cell_type": "code",
   "execution_count": 2,
   "id": "88a81ee7",
   "metadata": {},
   "outputs": [
    {
     "name": "stdout",
     "output_type": "stream",
     "text": [
      "4.2 -1.2000000000000002 4.050000000000001 2.25 0.5555555555555555 3.375\n"
     ]
    }
   ],
   "source": [
    "print(a+b, a-b, a*b, a**2, a/b, a**c)"
   ]
  },
  {
   "cell_type": "code",
   "execution_count": 3,
   "id": "850e85d3",
   "metadata": {},
   "outputs": [
    {
     "name": "stdout",
     "output_type": "stream",
     "text": [
      "4.2\n",
      "-1.2000000000000002\n",
      "4.050000000000001\n",
      "2.25\n",
      "0.5555555555555555\n",
      "3.375\n"
     ]
    }
   ],
   "source": [
    "print(a+b)\n",
    "print(a-b)\n",
    "print(a*b)\n",
    "print(a**2)\n",
    "print(a/b)\n",
    "print(a**c)"
   ]
  },
  {
   "cell_type": "markdown",
   "id": "4bdb1518",
   "metadata": {},
   "source": [
    "***Les Booléens***"
   ]
  },
  {
   "cell_type": "code",
   "execution_count": 4,
   "id": "3546ac58",
   "metadata": {},
   "outputs": [
    {
     "name": "stdout",
     "output_type": "stream",
     "text": [
      "True\n",
      "False\n"
     ]
    }
   ],
   "source": [
    "print(a<=b)\n",
    "print(a>b)"
   ]
  },
  {
   "cell_type": "markdown",
   "id": "2cd21690",
   "metadata": {},
   "source": [
    "***Les Fonctions***"
   ]
  },
  {
   "cell_type": "code",
   "execution_count": 5,
   "id": "f7144665",
   "metadata": {},
   "outputs": [
    {
     "name": "stdout",
     "output_type": "stream",
     "text": [
      "16\n"
     ]
    }
   ],
   "source": [
    "f=lambda x:x**2+2*x+1\n",
    "print(f(3))"
   ]
  },
  {
   "cell_type": "code",
   "execution_count": 6,
   "id": "3976613f",
   "metadata": {},
   "outputs": [
    {
     "name": "stdout",
     "output_type": "stream",
     "text": [
      "12\n"
     ]
    }
   ],
   "source": [
    "g=lambda a, b:2*a**2 + b**3 + 2\n",
    "print(g(1,2))"
   ]
  },
  {
   "cell_type": "markdown",
   "id": "96485f04",
   "metadata": {},
   "source": [
    "***Les fonctions prédéfinies***"
   ]
  },
  {
   "cell_type": "code",
   "execution_count": 7,
   "id": "31e47fe0",
   "metadata": {},
   "outputs": [],
   "source": [
    "def sj_energiePotentielle(masse, hauteur, g):\n",
    "    E = masse*hauteur*g\n",
    "    print(E, 'Joules')"
   ]
  },
  {
   "cell_type": "code",
   "execution_count": 8,
   "id": "a6cfd7e3",
   "metadata": {},
   "outputs": [
    {
     "name": "stdout",
     "output_type": "stream",
     "text": [
      "549.36 Joules\n"
     ]
    }
   ],
   "source": [
    "sj_energiePotentielle(8, 7, 9.81)"
   ]
  },
  {
   "cell_type": "code",
   "execution_count": 9,
   "id": "58170763",
   "metadata": {},
   "outputs": [],
   "source": [
    "def sj_energiePotentielleLimte(masse, hauteur, g, limite):\n",
    "    E = masse*hauteur*g\n",
    "    return E < limite"
   ]
  },
  {
   "cell_type": "code",
   "execution_count": 10,
   "id": "dbe2de5f",
   "metadata": {},
   "outputs": [
    {
     "data": {
      "text/plain": [
       "True"
      ]
     },
     "execution_count": 10,
     "metadata": {},
     "output_type": "execute_result"
    }
   ],
   "source": [
    "sj_energiePotentielleLimte(8, 7, 9.81, 600)"
   ]
  },
  {
   "cell_type": "markdown",
   "id": "40bc77bb",
   "metadata": {},
   "source": [
    "***IF, ELSE, WHILE, FOR***"
   ]
  },
  {
   "cell_type": "code",
   "execution_count": 11,
   "id": "942c98ff",
   "metadata": {},
   "outputs": [
    {
     "name": "stdout",
     "output_type": "stream",
     "text": [
      "10 est positif\n"
     ]
    }
   ],
   "source": [
    "a = 10\n",
    "if a>0:\n",
    "    print(a, 'est positif')"
   ]
  },
  {
   "cell_type": "markdown",
   "id": "82241264",
   "metadata": {},
   "source": [
    "***Quelques fonctions usuelles***"
   ]
  },
  {
   "cell_type": "code",
   "execution_count": 12,
   "id": "b6978f26",
   "metadata": {},
   "outputs": [
    {
     "data": {
      "text/plain": [
       "2"
      ]
     },
     "execution_count": 12,
     "metadata": {},
     "output_type": "execute_result"
    }
   ],
   "source": [
    "# Valeur Absolue\n",
    "a = -2\n",
    "abs(a)"
   ]
  },
  {
   "cell_type": "code",
   "execution_count": 13,
   "id": "7e11b9e6",
   "metadata": {},
   "outputs": [
    {
     "data": {
      "text/plain": [
       "3"
      ]
     },
     "execution_count": 13,
     "metadata": {},
     "output_type": "execute_result"
    }
   ],
   "source": [
    "#Arrondie\n",
    "pi = 3.14\n",
    "round(pi)"
   ]
  },
  {
   "cell_type": "code",
   "execution_count": 14,
   "id": "8881846c",
   "metadata": {},
   "outputs": [
    {
     "name": "stdout",
     "output_type": "stream",
     "text": [
      "57\n",
      "216\n",
      "16\n"
     ]
    }
   ],
   "source": [
    "age = [20, 23, 21, 43, 36, 16, 57]\n",
    "print(max(age))\n",
    "print(sum(age))\n",
    "print(min(age))"
   ]
  },
  {
   "cell_type": "markdown",
   "id": "2c5309e7",
   "metadata": {},
   "source": [
    "***Introduction à numpy***"
   ]
  },
  {
   "cell_type": "code",
   "execution_count": 15,
   "id": "2de3bd8e",
   "metadata": {},
   "outputs": [],
   "source": [
    "import numpy as np\n",
    "import random"
   ]
  },
  {
   "cell_type": "code",
   "execution_count": 16,
   "id": "f468df42",
   "metadata": {},
   "outputs": [
    {
     "name": "stdout",
     "output_type": "stream",
     "text": [
      "<class 'numpy.ndarray'> (4,)\n"
     ]
    }
   ],
   "source": [
    "A = np.array([2, 6, 4, 1])\n",
    "print(type(A), A.shape)"
   ]
  },
  {
   "cell_type": "code",
   "execution_count": 17,
   "id": "2471a067",
   "metadata": {},
   "outputs": [
    {
     "name": "stdout",
     "output_type": "stream",
     "text": [
      "[[0. 0. 0. 0. 0.]\n",
      " [0. 0. 0. 0. 0.]\n",
      " [0. 0. 0. 0. 0.]\n",
      " [0. 0. 0. 0. 0.]] (4, 5) 2\n"
     ]
    }
   ],
   "source": [
    "B = np.zeros((4, 5))\n",
    "print(B, B.shape, B.ndim)"
   ]
  },
  {
   "cell_type": "code",
   "execution_count": 18,
   "id": "ea17db3a",
   "metadata": {},
   "outputs": [
    {
     "name": "stdout",
     "output_type": "stream",
     "text": [
      "[[1. 1. 1. 1. 1.]\n",
      " [1. 1. 1. 1. 1.]\n",
      " [1. 1. 1. 1. 1.]\n",
      " [1. 1. 1. 1. 1.]] (4, 5) 2\n"
     ]
    }
   ],
   "source": [
    "C = np.ones((4, 5))\n",
    "print(C, C.shape, C.ndim)"
   ]
  },
  {
   "cell_type": "code",
   "execution_count": 19,
   "id": "d602a31e",
   "metadata": {},
   "outputs": [
    {
     "name": "stdout",
     "output_type": "stream",
     "text": [
      "[[1. 0. 0.]\n",
      " [0. 1. 0.]\n",
      " [0. 0. 1.]] (3, 3) 2\n"
     ]
    }
   ],
   "source": [
    "ID = np.eye((3))\n",
    "print(ID, ID.shape, ID.ndim)"
   ]
  },
  {
   "cell_type": "code",
   "execution_count": 20,
   "id": "fb8e643c",
   "metadata": {},
   "outputs": [
    {
     "name": "stdout",
     "output_type": "stream",
     "text": [
      "[[10 10 10 10 10]\n",
      " [10 10 10 10 10]\n",
      " [10 10 10 10 10]\n",
      " [10 10 10 10 10]] (4, 5) 2\n"
     ]
    }
   ],
   "source": [
    "D = np.full((4, 5), 10)\n",
    "print(D, D.shape, D.ndim)"
   ]
  },
  {
   "cell_type": "code",
   "execution_count": 21,
   "id": "19f37435",
   "metadata": {},
   "outputs": [
    {
     "name": "stdout",
     "output_type": "stream",
     "text": [
      "[[0.87082937 0.87082937 0.87082937]\n",
      " [0.87082937 0.87082937 0.87082937]\n",
      " [0.87082937 0.87082937 0.87082937]\n",
      " [0.87082937 0.87082937 0.87082937]] (4, 3) 2\n"
     ]
    }
   ],
   "source": [
    "E = np.full((4, 3), random.random())\n",
    "print(E, E.shape, E.ndim)"
   ]
  },
  {
   "cell_type": "code",
   "execution_count": 22,
   "id": "c3084922",
   "metadata": {},
   "outputs": [
    {
     "name": "stdout",
     "output_type": "stream",
     "text": [
      "[[-0.10568195  0.24937922  0.60855804]\n",
      " [ 0.59171592 -0.61086433  1.66116627]\n",
      " [ 0.98648251  0.4075076  -0.19651014]] (3, 3) 2\n"
     ]
    }
   ],
   "source": [
    "F = np.random.randn(3, 3)\n",
    "print(F, F.shape, F.ndim)"
   ]
  },
  {
   "cell_type": "code",
   "execution_count": 23,
   "id": "45357982",
   "metadata": {},
   "outputs": [
    {
     "data": {
      "text/plain": [
       "array([[ 1.76405235,  0.40015721,  0.97873798],\n",
       "       [ 2.2408932 ,  1.86755799, -0.97727788],\n",
       "       [ 0.95008842, -0.15135721, -0.10321885]])"
      ]
     },
     "execution_count": 23,
     "metadata": {},
     "output_type": "execute_result"
    }
   ],
   "source": [
    "np.random.seed(0)\n",
    "np.random.randn(3, 3)"
   ]
  },
  {
   "cell_type": "code",
   "execution_count": 24,
   "id": "7f75be6a",
   "metadata": {},
   "outputs": [
    {
     "data": {
      "text/plain": [
       "array([6.        , 6.11111111, 6.22222222, 6.33333333, 6.44444444,\n",
       "       6.55555556, 6.66666667, 6.77777778, 6.88888889, 7.        ])"
      ]
     },
     "execution_count": 24,
     "metadata": {},
     "output_type": "execute_result"
    }
   ],
   "source": [
    "np.linspace(6, 7, 10)"
   ]
  },
  {
   "cell_type": "code",
   "execution_count": 25,
   "id": "03c054fa",
   "metadata": {},
   "outputs": [
    {
     "data": {
      "text/plain": [
       "array([ 0,  2,  4,  6,  8, 10, 12, 14, 16, 18])"
      ]
     },
     "execution_count": 25,
     "metadata": {},
     "output_type": "execute_result"
    }
   ],
   "source": [
    "np.arange(0, 20, 2)"
   ]
  },
  {
   "cell_type": "markdown",
   "id": "915ff887",
   "metadata": {},
   "source": [
    "***Manipulation des tableaux avec numpy***"
   ]
  },
  {
   "cell_type": "code",
   "execution_count": 26,
   "id": "2055561c",
   "metadata": {},
   "outputs": [
    {
     "name": "stdout",
     "output_type": "stream",
     "text": [
      "[[ 0.4105985   0.14404357  1.45427351]\n",
      " [ 0.76103773  0.12167502  0.44386323]\n",
      " [ 0.33367433  1.49407907 -0.20515826]\n",
      " [ 0.3130677  -0.85409574 -2.55298982]] [[ 0.6536186   0.8644362  -0.74216502]\n",
      " [ 2.26975462 -1.45436567  0.04575852]\n",
      " [-0.18718385  1.53277921  1.46935877]\n",
      " [ 0.15494743  0.37816252 -0.88778575]]\n"
     ]
    }
   ],
   "source": [
    "Tableau_1 = np.random.randn(4, 3)\n",
    "Tableau_2 = np.random.randn(4, 3)\n",
    "print(Tableau_1, Tableau_2)"
   ]
  },
  {
   "cell_type": "code",
   "execution_count": 27,
   "id": "40c0d298",
   "metadata": {},
   "outputs": [
    {
     "name": "stdout",
     "output_type": "stream",
     "text": [
      "(4, 3) (4, 3) (4, 6) (8, 3)\n"
     ]
    }
   ],
   "source": [
    "Tableau_1 = np.random.randn(4, 3)\n",
    "Tableau_2 = np.random.randn(4, 3)\n",
    "TAB_1 = np.concatenate((Tableau_1, Tableau_2), axis=1)\n",
    "TAB_2 = np.concatenate((Tableau_1, Tableau_2), axis=0)\n",
    "print(Tableau_1.shape, Tableau_2.shape, TAB_1.shape, TAB_2.shape)"
   ]
  },
  {
   "cell_type": "code",
   "execution_count": 28,
   "id": "1766a667",
   "metadata": {},
   "outputs": [
    {
     "name": "stdout",
     "output_type": "stream",
     "text": [
      "24\n"
     ]
    }
   ],
   "source": [
    "print(TAB_2.size)"
   ]
  },
  {
   "cell_type": "code",
   "execution_count": 29,
   "id": "b7d25d70",
   "metadata": {},
   "outputs": [
    {
     "name": "stdout",
     "output_type": "stream",
     "text": [
      "(6, 4)\n"
     ]
    }
   ],
   "source": [
    "TAB = TAB_2.reshape(6, 4)\n",
    "print(TAB.shape)"
   ]
  },
  {
   "cell_type": "code",
   "execution_count": 30,
   "id": "430b41f1",
   "metadata": {},
   "outputs": [
    {
     "name": "stdout",
     "output_type": "stream",
     "text": [
      "<class 'numpy.ndarray'> (4,)\n"
     ]
    }
   ],
   "source": [
    "A = np.array([2, 6, 4, 1])\n",
    "print(type(A), A.shape)"
   ]
  },
  {
   "cell_type": "code",
   "execution_count": 31,
   "id": "35a0aa43",
   "metadata": {},
   "outputs": [
    {
     "name": "stdout",
     "output_type": "stream",
     "text": [
      "(4, 1)\n"
     ]
    }
   ],
   "source": [
    "A = A.reshape(A.shape[0], 1)\n",
    "print(A.shape)"
   ]
  },
  {
   "cell_type": "code",
   "execution_count": 32,
   "id": "951c829b",
   "metadata": {},
   "outputs": [
    {
     "name": "stdout",
     "output_type": "stream",
     "text": [
      "(4,)\n"
     ]
    }
   ],
   "source": [
    "A = A.squeeze()\n",
    "print(A.shape)"
   ]
  },
  {
   "cell_type": "code",
   "execution_count": 33,
   "id": "ac9bf18c",
   "metadata": {},
   "outputs": [
    {
     "name": "stdout",
     "output_type": "stream",
     "text": [
      "[[-1.98079647 -0.34791215  0.15634897]\n",
      " [ 1.23029068  1.20237985 -0.38732682]\n",
      " [-0.30230275 -1.04855297 -1.42001794]\n",
      " [-1.70627019  1.9507754  -0.50965218]]\n"
     ]
    }
   ],
   "source": [
    "print(Tableau_1)"
   ]
  },
  {
   "cell_type": "code",
   "execution_count": 34,
   "id": "b2ea39b3",
   "metadata": {},
   "outputs": [
    {
     "data": {
      "text/plain": [
       "(12,)"
      ]
     },
     "execution_count": 34,
     "metadata": {},
     "output_type": "execute_result"
    }
   ],
   "source": [
    "List = np.ravel(Tableau_1)\n",
    "List.shape"
   ]
  },
  {
   "cell_type": "markdown",
   "id": "9cdb0d25",
   "metadata": {},
   "source": [
    "# K-NN Sur données d'IRIS\n",
    "\n",
    "https://fr.wikipedia.org/wiki/Iris_de_Fisher#Le_jeu_de_donn%C3%A9es"
   ]
  },
  {
   "cell_type": "code",
   "execution_count": 35,
   "id": "a63f3069",
   "metadata": {},
   "outputs": [],
   "source": [
    "import numpy as np\n",
    "import matplotlib.pyplot as plt\n",
    "from sklearn.datasets import load_iris"
   ]
  },
  {
   "cell_type": "code",
   "execution_count": 36,
   "id": "09df5cb5",
   "metadata": {},
   "outputs": [
    {
     "name": "stdout",
     "output_type": "stream",
     "text": [
      "(150, 4) (150,)\n",
      "[3.5 3.  3.2 3.1 3.6]\n",
      "[[5.1 3.5 1.4 0.2]\n",
      " [4.9 3.  1.4 0.2]\n",
      " [4.7 3.2 1.3 0.2]\n",
      " [4.6 3.1 1.5 0.2]\n",
      " [5.  3.6 1.4 0.2]\n",
      " [5.4 3.9 1.7 0.4]\n",
      " [4.6 3.4 1.4 0.3]\n",
      " [5.  3.4 1.5 0.2]\n",
      " [4.4 2.9 1.4 0.2]\n",
      " [4.9 3.1 1.5 0.1]\n",
      " [5.4 3.7 1.5 0.2]\n",
      " [4.8 3.4 1.6 0.2]\n",
      " [4.8 3.  1.4 0.1]\n",
      " [4.3 3.  1.1 0.1]\n",
      " [5.8 4.  1.2 0.2]\n",
      " [5.7 4.4 1.5 0.4]\n",
      " [5.4 3.9 1.3 0.4]\n",
      " [5.1 3.5 1.4 0.3]\n",
      " [5.7 3.8 1.7 0.3]\n",
      " [5.1 3.8 1.5 0.3]\n",
      " [5.4 3.4 1.7 0.2]\n",
      " [5.1 3.7 1.5 0.4]\n",
      " [4.6 3.6 1.  0.2]\n",
      " [5.1 3.3 1.7 0.5]\n",
      " [4.8 3.4 1.9 0.2]\n",
      " [5.  3.  1.6 0.2]\n",
      " [5.  3.4 1.6 0.4]\n",
      " [5.2 3.5 1.5 0.2]\n",
      " [5.2 3.4 1.4 0.2]\n",
      " [4.7 3.2 1.6 0.2]\n",
      " [4.8 3.1 1.6 0.2]\n",
      " [5.4 3.4 1.5 0.4]\n",
      " [5.2 4.1 1.5 0.1]\n",
      " [5.5 4.2 1.4 0.2]\n",
      " [4.9 3.1 1.5 0.2]\n",
      " [5.  3.2 1.2 0.2]\n",
      " [5.5 3.5 1.3 0.2]\n",
      " [4.9 3.6 1.4 0.1]\n",
      " [4.4 3.  1.3 0.2]\n",
      " [5.1 3.4 1.5 0.2]\n",
      " [5.  3.5 1.3 0.3]\n",
      " [4.5 2.3 1.3 0.3]\n",
      " [4.4 3.2 1.3 0.2]\n",
      " [5.  3.5 1.6 0.6]\n",
      " [5.1 3.8 1.9 0.4]\n",
      " [4.8 3.  1.4 0.3]\n",
      " [5.1 3.8 1.6 0.2]\n",
      " [4.6 3.2 1.4 0.2]\n",
      " [5.3 3.7 1.5 0.2]\n",
      " [5.  3.3 1.4 0.2]\n",
      " [7.  3.2 4.7 1.4]\n",
      " [6.4 3.2 4.5 1.5]\n",
      " [6.9 3.1 4.9 1.5]\n",
      " [5.5 2.3 4.  1.3]\n",
      " [6.5 2.8 4.6 1.5]\n",
      " [5.7 2.8 4.5 1.3]\n",
      " [6.3 3.3 4.7 1.6]\n",
      " [4.9 2.4 3.3 1. ]\n",
      " [6.6 2.9 4.6 1.3]\n",
      " [5.2 2.7 3.9 1.4]\n",
      " [5.  2.  3.5 1. ]\n",
      " [5.9 3.  4.2 1.5]\n",
      " [6.  2.2 4.  1. ]\n",
      " [6.1 2.9 4.7 1.4]\n",
      " [5.6 2.9 3.6 1.3]\n",
      " [6.7 3.1 4.4 1.4]\n",
      " [5.6 3.  4.5 1.5]\n",
      " [5.8 2.7 4.1 1. ]\n",
      " [6.2 2.2 4.5 1.5]\n",
      " [5.6 2.5 3.9 1.1]\n",
      " [5.9 3.2 4.8 1.8]\n",
      " [6.1 2.8 4.  1.3]\n",
      " [6.3 2.5 4.9 1.5]\n",
      " [6.1 2.8 4.7 1.2]\n",
      " [6.4 2.9 4.3 1.3]\n",
      " [6.6 3.  4.4 1.4]\n",
      " [6.8 2.8 4.8 1.4]\n",
      " [6.7 3.  5.  1.7]\n",
      " [6.  2.9 4.5 1.5]\n",
      " [5.7 2.6 3.5 1. ]\n",
      " [5.5 2.4 3.8 1.1]\n",
      " [5.5 2.4 3.7 1. ]\n",
      " [5.8 2.7 3.9 1.2]\n",
      " [6.  2.7 5.1 1.6]\n",
      " [5.4 3.  4.5 1.5]\n",
      " [6.  3.4 4.5 1.6]\n",
      " [6.7 3.1 4.7 1.5]\n",
      " [6.3 2.3 4.4 1.3]\n",
      " [5.6 3.  4.1 1.3]\n",
      " [5.5 2.5 4.  1.3]\n",
      " [5.5 2.6 4.4 1.2]\n",
      " [6.1 3.  4.6 1.4]\n",
      " [5.8 2.6 4.  1.2]\n",
      " [5.  2.3 3.3 1. ]\n",
      " [5.6 2.7 4.2 1.3]\n",
      " [5.7 3.  4.2 1.2]\n",
      " [5.7 2.9 4.2 1.3]\n",
      " [6.2 2.9 4.3 1.3]\n",
      " [5.1 2.5 3.  1.1]\n",
      " [5.7 2.8 4.1 1.3]\n",
      " [6.3 3.3 6.  2.5]\n",
      " [5.8 2.7 5.1 1.9]\n",
      " [7.1 3.  5.9 2.1]\n",
      " [6.3 2.9 5.6 1.8]\n",
      " [6.5 3.  5.8 2.2]\n",
      " [7.6 3.  6.6 2.1]\n",
      " [4.9 2.5 4.5 1.7]\n",
      " [7.3 2.9 6.3 1.8]\n",
      " [6.7 2.5 5.8 1.8]\n",
      " [7.2 3.6 6.1 2.5]\n",
      " [6.5 3.2 5.1 2. ]\n",
      " [6.4 2.7 5.3 1.9]\n",
      " [6.8 3.  5.5 2.1]\n",
      " [5.7 2.5 5.  2. ]\n",
      " [5.8 2.8 5.1 2.4]\n",
      " [6.4 3.2 5.3 2.3]\n",
      " [6.5 3.  5.5 1.8]\n",
      " [7.7 3.8 6.7 2.2]\n",
      " [7.7 2.6 6.9 2.3]\n",
      " [6.  2.2 5.  1.5]\n",
      " [6.9 3.2 5.7 2.3]\n",
      " [5.6 2.8 4.9 2. ]\n",
      " [7.7 2.8 6.7 2. ]\n",
      " [6.3 2.7 4.9 1.8]\n",
      " [6.7 3.3 5.7 2.1]\n",
      " [7.2 3.2 6.  1.8]\n",
      " [6.2 2.8 4.8 1.8]\n",
      " [6.1 3.  4.9 1.8]\n",
      " [6.4 2.8 5.6 2.1]\n",
      " [7.2 3.  5.8 1.6]\n",
      " [7.4 2.8 6.1 1.9]\n",
      " [7.9 3.8 6.4 2. ]\n",
      " [6.4 2.8 5.6 2.2]\n",
      " [6.3 2.8 5.1 1.5]\n",
      " [6.1 2.6 5.6 1.4]\n",
      " [7.7 3.  6.1 2.3]\n",
      " [6.3 3.4 5.6 2.4]\n",
      " [6.4 3.1 5.5 1.8]\n",
      " [6.  3.  4.8 1.8]\n",
      " [6.9 3.1 5.4 2.1]\n",
      " [6.7 3.1 5.6 2.4]\n",
      " [6.9 3.1 5.1 2.3]\n",
      " [5.8 2.7 5.1 1.9]\n",
      " [6.8 3.2 5.9 2.3]\n",
      " [6.7 3.3 5.7 2.5]\n",
      " [6.7 3.  5.2 2.3]\n",
      " [6.3 2.5 5.  1.9]\n",
      " [6.5 3.  5.2 2. ]\n",
      " [6.2 3.4 5.4 2.3]\n",
      " [5.9 3.  5.1 1.8]]\n"
     ]
    }
   ],
   "source": [
    "#Let's import dataset\n",
    "iris = load_iris()\n",
    "\n",
    "X = iris.data\n",
    "y = iris.target\n",
    "\n",
    "print(X.shape, y.shape)\n",
    "print(X[0:5,1])\n",
    "print(X)"
   ]
  },
  {
   "cell_type": "code",
   "execution_count": 37,
   "id": "edbfb013",
   "metadata": {},
   "outputs": [
    {
     "data": {
      "text/plain": [
       "<matplotlib.collections.PathCollection at 0x3126918070>"
      ]
     },
     "execution_count": 37,
     "metadata": {},
     "output_type": "execute_result"
    },
    {
     "data": {
      "image/png": "[encoded data removed]",
      "text/plain": [
       "<Figure size 432x288 with 1 Axes>"
      ]
     },
     "metadata": {
      "needs_background": "light"
     },
     "output_type": "display_data"
    }
   ],
   "source": [
    "#Représentons le nuage de points\n",
    "plt.scatter(X[:, 0], X[:, 1], c=y)"
   ]
  },
  {
   "cell_type": "code",
   "execution_count": 38,
   "id": "49bf5876",
   "metadata": {},
   "outputs": [
    {
     "name": "stdout",
     "output_type": "stream",
     "text": [
      "(120, 4) (30, 4) (120,) (30,)\n"
     ]
    }
   ],
   "source": [
    "#Tirage d'échantillon d'apprentissage et de test\n",
    "from sklearn.model_selection import train_test_split\n",
    "\n",
    "X_train, X_test, y_train, y_test = train_test_split(X,y, test_size=0.2)\n",
    "\n",
    "print(X_train.shape, X_test.shape, y_train.shape, y_test.shape)"
   ]
  },
  {
   "cell_type": "code",
   "execution_count": 39,
   "id": "db217096",
   "metadata": {},
   "outputs": [
    {
     "name": "stdout",
     "output_type": "stream",
     "text": [
      "[1 0 1 1 0 1 2 1 0 0 0 0 2 1 0 1 0 2 1 2 1 2 1 1 2 1 2 1 1 0]\n"
     ]
    }
   ],
   "source": [
    "print(y_test)"
   ]
  },
  {
   "cell_type": "code",
   "execution_count": 40,
   "id": "6c21e1ea",
   "metadata": {},
   "outputs": [
    {
     "data": {
      "text/plain": [
       "KNeighborsClassifier(n_neighbors=1)"
      ]
     },
     "execution_count": 40,
     "metadata": {},
     "output_type": "execute_result"
    }
   ],
   "source": [
    "#Entrainons le modèle\n",
    "from sklearn.neighbors import KNeighborsClassifier\n",
    "Model = KNeighborsClassifier(n_neighbors=1)\n",
    "Model.fit(X_train, y_train)"
   ]
  },
  {
   "cell_type": "code",
   "execution_count": 41,
   "id": "595ae3e4",
   "metadata": {},
   "outputs": [
    {
     "name": "stdout",
     "output_type": "stream",
     "text": [
      "1.0\n",
      "0.9666666666666667\n"
     ]
    }
   ],
   "source": [
    "print(Model.score(X_train, y_train))\n",
    "print(Model.score(X_test, y_test))"
   ]
  },
  {
   "cell_type": "code",
   "execution_count": 42,
   "id": "a5e6ff33",
   "metadata": {},
   "outputs": [
    {
     "name": "stdout",
     "output_type": "stream",
     "text": [
      "(30,) [1 0 1 1 0 1 2 1 0 0 0 0 2 1 0 1 0 2 1 2 1 2 1 1 2 1 2 1 1 0] (30,) [1 0 1 2 0 1 2 1 0 0 0 0 2 1 0 1 0 2 1 2 1 2 1 1 2 1 2 1 1 0]\n"
     ]
    }
   ],
   "source": [
    "y_test_predict = Model.predict(X_test)\n",
    "print(y_test.shape, y_test, y_test_predict.shape, y_test_predict)"
   ]
  },
  {
   "cell_type": "code",
   "execution_count": 43,
   "id": "7fe90547",
   "metadata": {},
   "outputs": [
    {
     "data": {
      "text/plain": [
       "array([[ 9,  0,  0],\n",
       "       [ 0, 13,  1],\n",
       "       [ 0,  0,  7]], dtype=int64)"
      ]
     },
     "execution_count": 43,
     "metadata": {},
     "output_type": "execute_result"
    }
   ],
   "source": [
    "#Confusion Matrix\n",
    "from sklearn.metrics import confusion_matrix\n",
    "confusion_matrix(y_test, Model.predict(X_test))"
   ]
  },
  {
   "cell_type": "markdown",
   "id": "3fcbfdfa",
   "metadata": {},
   "source": [
    "***Let's apply the cross validation***"
   ]
  },
  {
   "cell_type": "code",
   "execution_count": 44,
   "id": "b28336f7",
   "metadata": {},
   "outputs": [
    {
     "data": {
      "text/plain": [
       "array([1.        , 0.91666667, 1.        , 1.        , 0.91666667,\n",
       "       1.        , 1.        , 0.91666667, 1.        , 1.        ])"
      ]
     },
     "execution_count": 44,
     "metadata": {},
     "output_type": "execute_result"
    }
   ],
   "source": [
    "from sklearn.model_selection import cross_val_score\n",
    "cross_val_score(KNeighborsClassifier(n_neighbors=9), X_train, y_train, cv=10, scoring='accuracy')"
   ]
  },
  {
   "cell_type": "code",
   "execution_count": 45,
   "id": "f0449cdc",
   "metadata": {},
   "outputs": [
    {
     "data": {
      "text/plain": [
       "0.975"
      ]
     },
     "execution_count": 45,
     "metadata": {},
     "output_type": "execute_result"
    }
   ],
   "source": [
    "cross_val_score(KNeighborsClassifier(n_neighbors=9), X_train, y_train, cv=10, scoring='accuracy').mean()"
   ]
  },
  {
   "cell_type": "code",
   "execution_count": 46,
   "id": "57f22041",
   "metadata": {},
   "outputs": [
    {
     "data": {
      "text/plain": [
       "[<matplotlib.lines.Line2D at 0x3126d79910>]"
      ]
     },
     "execution_count": 46,
     "metadata": {},
     "output_type": "execute_result"
    },
    {
     "data": {
      "image/png": "[encoded data removed]",
      "text/plain": [
       "<Figure size 432x288 with 1 Axes>"
      ]
     },
     "metadata": {
      "needs_background": "light"
     },
     "output_type": "display_data"
    }
   ],
   "source": [
    "# Let's simulate with n_neighbors\n",
    "score_list=[]\n",
    "for k in range(1, 25):\n",
    "    accuracy_val = cross_val_score(KNeighborsClassifier(n_neighbors=k), X_train, y_train, cv=5, scoring='accuracy').mean()\n",
    "    score_list.append(accuracy_val)\n",
    "plt.plot(score_list)"
   ]
  },
  {
   "cell_type": "code",
   "execution_count": 47,
   "id": "5b57efac",
   "metadata": {},
   "outputs": [
    {
     "name": "stdout",
     "output_type": "stream",
     "text": [
      "[0.95, 0.9333333333333333, 0.9666666666666668, 0.9583333333333334, 0.9583333333333334, 0.9666666666666668, 0.9583333333333334, 0.9666666666666668, 0.9666666666666668, 0.9583333333333334, 0.9666666666666668, 0.9666666666666668, 0.9666666666666668, 0.9583333333333334, 0.95, 0.9416666666666668, 0.95, 0.95, 0.95, 0.9583333333333334, 0.95, 0.9583333333333334, 0.95, 0.95]\n"
     ]
    }
   ],
   "source": [
    "print(score_list)"
   ]
  },
  {
   "cell_type": "markdown",
   "id": "5c0786d4",
   "metadata": {},
   "source": [
    "***Overfitting Evaluation***"
   ]
  },
  {
   "cell_type": "code",
   "execution_count": 48,
   "id": "df260ed1",
   "metadata": {},
   "outputs": [
    {
     "ename": "TypeError",
     "evalue": "validation_curve() takes 3 positional arguments but 5 positional arguments (and 1 keyword-only argument) were given",
     "output_type": "error",
     "traceback": [
      "\u001b[1;31m---------------------------------------------------------------------------\u001b[0m",
      "\u001b[1;31mTypeError\u001b[0m                                 Traceback (most recent call last)",
      "\u001b[1;32mc:\\Users\\Bonas Nelson\\Documents\\Machine learning\\MachineLearning_Notebook_M1_DS.ipynb Cell 61'\u001b[0m in \u001b[0;36m<cell line: 5>\u001b[1;34m()\u001b[0m\n\u001b[0;32m      <a href='vscode-notebook-cell:/c%3A/Users/Bonas%20Nelson/Documents/Machine%20learning/MachineLearning_Notebook_M1_DS.ipynb#ch0000060?line=2'>3</a>\u001b[0m model \u001b[39m=\u001b[39m KNeighborsClassifier()\n\u001b[0;32m      <a href='vscode-notebook-cell:/c%3A/Users/Bonas%20Nelson/Documents/Machine%20learning/MachineLearning_Notebook_M1_DS.ipynb#ch0000060?line=3'>4</a>\u001b[0m k \u001b[39m=\u001b[39m np\u001b[39m.\u001b[39marange(\u001b[39m1\u001b[39m, \u001b[39m26\u001b[39m)\n\u001b[1;32m----> <a href='vscode-notebook-cell:/c%3A/Users/Bonas%20Nelson/Documents/Machine%20learning/MachineLearning_Notebook_M1_DS.ipynb#ch0000060?line=4'>5</a>\u001b[0m train_score, test_score \u001b[39m=\u001b[39m validation_curve(model, X_train, y_train, \u001b[39m'\u001b[39;49m\u001b[39mn_neighbors\u001b[39;49m\u001b[39m'\u001b[39;49m, k, cv\u001b[39m=\u001b[39;49m\u001b[39m5\u001b[39;49m)\n\u001b[0;32m      <a href='vscode-notebook-cell:/c%3A/Users/Bonas%20Nelson/Documents/Machine%20learning/MachineLearning_Notebook_M1_DS.ipynb#ch0000060?line=5'>6</a>\u001b[0m \u001b[39mprint\u001b[39m(train_score\u001b[39m.\u001b[39mshape, test_score\u001b[39m.\u001b[39mshape)\n\u001b[0;32m      <a href='vscode-notebook-cell:/c%3A/Users/Bonas%20Nelson/Documents/Machine%20learning/MachineLearning_Notebook_M1_DS.ipynb#ch0000060?line=6'>7</a>\u001b[0m \u001b[39mprint\u001b[39m(train_score\u001b[39m.\u001b[39mmean(axis\u001b[39m=\u001b[39m\u001b[39m1\u001b[39m)\u001b[39m.\u001b[39mshape, test_score\u001b[39m.\u001b[39mmean(axis\u001b[39m=\u001b[39m\u001b[39m1\u001b[39m)\u001b[39m.\u001b[39mshape)\n",
      "\u001b[1;31mTypeError\u001b[0m: validation_curve() takes 3 positional arguments but 5 positional arguments (and 1 keyword-only argument) were given"
     ]
    }
   ],
   "source": [
    "from sklearn.model_selection import validation_curve\n",
    "\n",
    "model = KNeighborsClassifier()\n",
    "k = np.arange(1, 26)\n",
    "train_score, test_score = validation_curve(model, X_train, y_train, 'n_neighbors', k, cv=5)\n",
    "print(train_score.shape, test_score.shape)\n",
    "print(train_score.mean(axis=1).shape, test_score.mean(axis=1).shape)"
   ]
  },
  {
   "cell_type": "code",
   "execution_count": null,
   "id": "b12f6046",
   "metadata": {},
   "outputs": [
    {
     "ename": "NameError",
     "evalue": "name 'test_score' is not defined",
     "output_type": "error",
     "traceback": [
      "\u001b[1;31m---------------------------------------------------------------------------\u001b[0m",
      "\u001b[1;31mNameError\u001b[0m                                 Traceback (most recent call last)",
      "\u001b[1;32mc:\\Users\\Bonas Nelson\\Documents\\Machine learning\\MachineLearning_Notebook_M1_DS.ipynb Cell 62'\u001b[0m in \u001b[0;36m<cell line: 2>\u001b[1;34m()\u001b[0m\n\u001b[0;32m      <a href='vscode-notebook-cell:/c%3A/Users/Bonas%20Nelson/Documents/Machine%20learning/MachineLearning_Notebook_M1_DS.ipynb#ch0000061?line=0'>1</a>\u001b[0m \u001b[39m# Plot of train_score and test_score\u001b[39;00m\n\u001b[1;32m----> <a href='vscode-notebook-cell:/c%3A/Users/Bonas%20Nelson/Documents/Machine%20learning/MachineLearning_Notebook_M1_DS.ipynb#ch0000061?line=1'>2</a>\u001b[0m plt\u001b[39m.\u001b[39mplot(k, test_score\u001b[39m.\u001b[39mmean(axis\u001b[39m=\u001b[39m\u001b[39m1\u001b[39m), label \u001b[39m=\u001b[39m \u001b[39m'\u001b[39m\u001b[39mTest_Validation\u001b[39m\u001b[39m'\u001b[39m)\n\u001b[0;32m      <a href='vscode-notebook-cell:/c%3A/Users/Bonas%20Nelson/Documents/Machine%20learning/MachineLearning_Notebook_M1_DS.ipynb#ch0000061?line=2'>3</a>\u001b[0m plt\u001b[39m.\u001b[39mplot(k, train_score\u001b[39m.\u001b[39mmean(axis\u001b[39m=\u001b[39m\u001b[39m1\u001b[39m), label \u001b[39m=\u001b[39m \u001b[39m'\u001b[39m\u001b[39mTrain_Validation\u001b[39m\u001b[39m'\u001b[39m)\n\u001b[0;32m      <a href='vscode-notebook-cell:/c%3A/Users/Bonas%20Nelson/Documents/Machine%20learning/MachineLearning_Notebook_M1_DS.ipynb#ch0000061?line=4'>5</a>\u001b[0m plt\u001b[39m.\u001b[39mylabel(\u001b[39m'\u001b[39m\u001b[39mscore\u001b[39m\u001b[39m'\u001b[39m)\n",
      "\u001b[1;31mNameError\u001b[0m: name 'test_score' is not defined"
     ]
    }
   ],
   "source": [
    "# Plot of train_score and test_score\n",
    "plt.plot(k, test_score.mean(axis=1), label = 'Test_Validation')\n",
    "plt.plot(k, train_score.mean(axis=1), label = 'Train_Validation')\n",
    "\n",
    "plt.ylabel('score')\n",
    "plt.xlabel('n_neighbors')\n",
    "plt.legend()"
   ]
  },
  {
   "cell_type": "markdown",
   "id": "5b7fdd16",
   "metadata": {},
   "source": [
    "***Simulation with more than one HyperParameter ---> metrics & neighbors: GridSerchCV***"
   ]
  },
  {
   "cell_type": "code",
   "execution_count": 49,
   "id": "f7a56e78",
   "metadata": {},
   "outputs": [],
   "source": [
    "from sklearn.model_selection import GridSearchCV\n",
    "params_grid = {'n_neighbors': np.arange(1, 26), 'metric': ['euclidean', 'manhattan', 'minkowski']}"
   ]
  },
  {
   "cell_type": "code",
   "execution_count": 50,
   "id": "b2327f75",
   "metadata": {},
   "outputs": [
    {
     "name": "stdout",
     "output_type": "stream",
     "text": [
      "{'n_neighbors': array([ 1,  2,  3,  4,  5,  6,  7,  8,  9, 10, 11, 12, 13, 14, 15, 16, 17,\n",
      "       18, 19, 20, 21, 22, 23, 24, 25]), 'metric': ['euclidean', 'manhattan', 'minkowski']}\n"
     ]
    }
   ],
   "source": [
    "print(params_grid)"
   ]
  },
  {
   "cell_type": "code",
   "execution_count": 51,
   "id": "4d4e19cd",
   "metadata": {},
   "outputs": [
    {
     "data": {
      "text/plain": [
       "dict_values([array([ 1,  2,  3,  4,  5,  6,  7,  8,  9, 10, 11, 12, 13, 14, 15, 16, 17,\n",
       "       18, 19, 20, 21, 22, 23, 24, 25]), ['euclidean', 'manhattan', 'minkowski']])"
      ]
     },
     "execution_count": 51,
     "metadata": {},
     "output_type": "execute_result"
    }
   ],
   "source": [
    "params_grid.values()"
   ]
  },
  {
   "cell_type": "code",
   "execution_count": 52,
   "id": "68c370db",
   "metadata": {},
   "outputs": [
    {
     "data": {
      "text/plain": [
       "dict_keys(['n_neighbors', 'metric'])"
      ]
     },
     "execution_count": 52,
     "metadata": {},
     "output_type": "execute_result"
    }
   ],
   "source": [
    "params_grid.keys()"
   ]
  },
  {
   "cell_type": "code",
   "execution_count": 53,
   "id": "43f7f90d",
   "metadata": {},
   "outputs": [
    {
     "data": {
      "text/plain": [
       "2"
      ]
     },
     "execution_count": 53,
     "metadata": {},
     "output_type": "execute_result"
    }
   ],
   "source": [
    "len(params_grid)"
   ]
  },
  {
   "cell_type": "code",
   "execution_count": 54,
   "id": "a8b634ad",
   "metadata": {},
   "outputs": [
    {
     "data": {
      "text/plain": [
       "['euclidean', 'manhattan', 'minkowski']"
      ]
     },
     "execution_count": 54,
     "metadata": {},
     "output_type": "execute_result"
    }
   ],
   "source": [
    "params_grid.get('metric')"
   ]
  },
  {
   "cell_type": "code",
   "execution_count": 55,
   "id": "bae01cc2",
   "metadata": {},
   "outputs": [
    {
     "data": {
      "text/plain": [
       "array([ 1,  2,  3,  4,  5,  6,  7,  8,  9, 10, 11, 12, 13, 14, 15, 16, 17,\n",
       "       18, 19, 20, 21, 22, 23, 24, 25])"
      ]
     },
     "execution_count": 55,
     "metadata": {},
     "output_type": "execute_result"
    }
   ],
   "source": [
    "params_grid.get('n_neighbors')"
   ]
  },
  {
   "cell_type": "code",
   "execution_count": 56,
   "id": "c26c5b3d",
   "metadata": {},
   "outputs": [
    {
     "data": {
      "text/plain": [
       "dict"
      ]
     },
     "execution_count": 56,
     "metadata": {},
     "output_type": "execute_result"
    }
   ],
   "source": [
    "type(params_grid)"
   ]
  },
  {
   "cell_type": "code",
   "execution_count": 57,
   "id": "716e721c",
   "metadata": {},
   "outputs": [],
   "source": [
    "#Create GridSearchCV\n",
    "gridsearch = GridSearchCV(KNeighborsClassifier(), params_grid, cv = 5)"
   ]
  },
  {
   "cell_type": "code",
   "execution_count": 58,
   "id": "7eae7ef0",
   "metadata": {},
   "outputs": [
    {
     "data": {
      "text/plain": [
       "GridSearchCV(cv=5, estimator=KNeighborsClassifier(),\n",
       "             param_grid={'metric': ['euclidean', 'manhattan', 'minkowski'],\n",
       "                         'n_neighbors': array([ 1,  2,  3,  4,  5,  6,  7,  8,  9, 10, 11, 12, 13, 14, 15, 16, 17,\n",
       "       18, 19, 20, 21, 22, 23, 24, 25])})"
      ]
     },
     "execution_count": 58,
     "metadata": {},
     "output_type": "execute_result"
    }
   ],
   "source": [
    "#Application of GridSearchCV\n",
    "gridsearch.fit(X_train, y_train)"
   ]
  },
  {
   "cell_type": "code",
   "execution_count": 59,
   "id": "5f026604",
   "metadata": {},
   "outputs": [
    {
     "data": {
      "text/plain": [
       "0.975"
      ]
     },
     "execution_count": 59,
     "metadata": {},
     "output_type": "execute_result"
    }
   ],
   "source": [
    "gridsearch.best_score_"
   ]
  },
  {
   "cell_type": "code",
   "execution_count": 60,
   "id": "c9e151f6",
   "metadata": {},
   "outputs": [
    {
     "data": {
      "text/plain": [
       "{'metric': 'manhattan', 'n_neighbors': 14}"
      ]
     },
     "execution_count": 60,
     "metadata": {},
     "output_type": "execute_result"
    }
   ],
   "source": [
    "gridsearch.best_params_"
   ]
  },
  {
   "cell_type": "markdown",
   "id": "bf3d27ae",
   "metadata": {},
   "source": [
    "# Decision Tree"
   ]
  },
  {
   "cell_type": "markdown",
   "id": "3470a521",
   "metadata": {},
   "source": [
    "### Iterative Dichotomizer Algorithm"
   ]
  },
  {
   "cell_type": "code",
   "execution_count": 61,
   "id": "daca647f",
   "metadata": {},
   "outputs": [],
   "source": [
    "import pandas as pd\n",
    "import numpy as np\n",
    "from numpy import log2 as log"
   ]
  },
  {
   "cell_type": "code",
   "execution_count": 62,
   "id": "840a8a63",
   "metadata": {},
   "outputs": [],
   "source": [
    "Outlook = 'overcast,overcast,overcast,overcast,rainy,rainy,rainy,rainy,rainy,sunny,sunny,sunny,sunny,sunny'.split(',')\n",
    "temp = 'hot,cool,mild,hot,mild,cool,cool,mild,mild,hot,hot,mild,cool,mild'.split(',')\n",
    "humidity = 'high,normal,high,normal,high,normal,normal,normal,high,high,high,high,normal,normal'.split(',')\n",
    "windy = 'FALSE,TRUE,TRUE,FALSE,FALSE,FALSE,TRUE,FALSE,TRUE,FALSE,TRUE,FALSE,FALSE,TRUE'.split(',')\n",
    "play = 'yes,yes,yes,yes,yes,yes,no,yes,no,no,no,no,yes,yes'.split(',')"
   ]
  },
  {
   "cell_type": "code",
   "execution_count": 63,
   "id": "2ebb6256",
   "metadata": {},
   "outputs": [],
   "source": [
    "dataset = {'Outlook': Outlook,\n",
    "           'temp': temp,\n",
    "           'humidity': humidity,\n",
    "           'windy': windy,\n",
    "           'play': play}\n",
    "df = pd.DataFrame(dataset, columns=['Outlook', 'temp', 'humidity', 'windy', 'play'])"
   ]
  },
  {
   "cell_type": "code",
   "execution_count": 64,
   "id": "66b7ef0e",
   "metadata": {},
   "outputs": [
    {
     "data": {
      "text/html": [
       "<div>\n",
       "<style scoped>\n",
       "    .dataframe tbody tr th:only-of-type {\n",
       "        vertical-align: middle;\n",
       "    }\n",
       "\n",
       "    .dataframe tbody tr th {\n",
       "        vertical-align: top;\n",
       "    }\n",
       "\n",
       "    .dataframe thead th {\n",
       "        text-align: right;\n",
       "    }\n",
       "</style>\n",
       "<table border=\"1\" class=\"dataframe\">\n",
       "  <thead>\n",
       "    <tr style=\"text-align: right;\">\n",
       "      <th></th>\n",
       "      <th>Outlook</th>\n",
       "      <th>temp</th>\n",
       "      <th>humidity</th>\n",
       "      <th>windy</th>\n",
       "      <th>play</th>\n",
       "    </tr>\n",
       "  </thead>\n",
       "  <tbody>\n",
       "    <tr>\n",
       "      <th>0</th>\n",
       "      <td>overcast</td>\n",
       "      <td>hot</td>\n",
       "      <td>high</td>\n",
       "      <td>FALSE</td>\n",
       "      <td>yes</td>\n",
       "    </tr>\n",
       "    <tr>\n",
       "      <th>1</th>\n",
       "      <td>overcast</td>\n",
       "      <td>cool</td>\n",
       "      <td>normal</td>\n",
       "      <td>TRUE</td>\n",
       "      <td>yes</td>\n",
       "    </tr>\n",
       "    <tr>\n",
       "      <th>2</th>\n",
       "      <td>overcast</td>\n",
       "      <td>mild</td>\n",
       "      <td>high</td>\n",
       "      <td>TRUE</td>\n",
       "      <td>yes</td>\n",
       "    </tr>\n",
       "    <tr>\n",
       "      <th>3</th>\n",
       "      <td>overcast</td>\n",
       "      <td>hot</td>\n",
       "      <td>normal</td>\n",
       "      <td>FALSE</td>\n",
       "      <td>yes</td>\n",
       "    </tr>\n",
       "    <tr>\n",
       "      <th>4</th>\n",
       "      <td>rainy</td>\n",
       "      <td>mild</td>\n",
       "      <td>high</td>\n",
       "      <td>FALSE</td>\n",
       "      <td>yes</td>\n",
       "    </tr>\n",
       "    <tr>\n",
       "      <th>5</th>\n",
       "      <td>rainy</td>\n",
       "      <td>cool</td>\n",
       "      <td>normal</td>\n",
       "      <td>FALSE</td>\n",
       "      <td>yes</td>\n",
       "    </tr>\n",
       "    <tr>\n",
       "      <th>6</th>\n",
       "      <td>rainy</td>\n",
       "      <td>cool</td>\n",
       "      <td>normal</td>\n",
       "      <td>TRUE</td>\n",
       "      <td>no</td>\n",
       "    </tr>\n",
       "    <tr>\n",
       "      <th>7</th>\n",
       "      <td>rainy</td>\n",
       "      <td>mild</td>\n",
       "      <td>normal</td>\n",
       "      <td>FALSE</td>\n",
       "      <td>yes</td>\n",
       "    </tr>\n",
       "    <tr>\n",
       "      <th>8</th>\n",
       "      <td>rainy</td>\n",
       "      <td>mild</td>\n",
       "      <td>high</td>\n",
       "      <td>TRUE</td>\n",
       "      <td>no</td>\n",
       "    </tr>\n",
       "    <tr>\n",
       "      <th>9</th>\n",
       "      <td>sunny</td>\n",
       "      <td>hot</td>\n",
       "      <td>high</td>\n",
       "      <td>FALSE</td>\n",
       "      <td>no</td>\n",
       "    </tr>\n",
       "    <tr>\n",
       "      <th>10</th>\n",
       "      <td>sunny</td>\n",
       "      <td>hot</td>\n",
       "      <td>high</td>\n",
       "      <td>TRUE</td>\n",
       "      <td>no</td>\n",
       "    </tr>\n",
       "    <tr>\n",
       "      <th>11</th>\n",
       "      <td>sunny</td>\n",
       "      <td>mild</td>\n",
       "      <td>high</td>\n",
       "      <td>FALSE</td>\n",
       "      <td>no</td>\n",
       "    </tr>\n",
       "    <tr>\n",
       "      <th>12</th>\n",
       "      <td>sunny</td>\n",
       "      <td>cool</td>\n",
       "      <td>normal</td>\n",
       "      <td>FALSE</td>\n",
       "      <td>yes</td>\n",
       "    </tr>\n",
       "    <tr>\n",
       "      <th>13</th>\n",
       "      <td>sunny</td>\n",
       "      <td>mild</td>\n",
       "      <td>normal</td>\n",
       "      <td>TRUE</td>\n",
       "      <td>yes</td>\n",
       "    </tr>\n",
       "  </tbody>\n",
       "</table>\n",
       "</div>"
      ],
      "text/plain": [
       "     Outlook  temp humidity  windy play\n",
       "0   overcast   hot     high  FALSE  yes\n",
       "1   overcast  cool   normal   TRUE  yes\n",
       "2   overcast  mild     high   TRUE  yes\n",
       "3   overcast   hot   normal  FALSE  yes\n",
       "4      rainy  mild     high  FALSE  yes\n",
       "5      rainy  cool   normal  FALSE  yes\n",
       "6      rainy  cool   normal   TRUE   no\n",
       "7      rainy  mild   normal  FALSE  yes\n",
       "8      rainy  mild     high   TRUE   no\n",
       "9      sunny   hot     high  FALSE   no\n",
       "10     sunny   hot     high   TRUE   no\n",
       "11     sunny  mild     high  FALSE   no\n",
       "12     sunny  cool   normal  FALSE  yes\n",
       "13     sunny  mild   normal   TRUE  yes"
      ]
     },
     "execution_count": 64,
     "metadata": {},
     "output_type": "execute_result"
    }
   ],
   "source": [
    "df"
   ]
  },
  {
   "cell_type": "code",
   "execution_count": 65,
   "id": "c6d8dba0",
   "metadata": {},
   "outputs": [
    {
     "data": {
      "text/plain": [
       "14"
      ]
     },
     "execution_count": 65,
     "metadata": {},
     "output_type": "execute_result"
    }
   ],
   "source": [
    "len(df)"
   ]
  },
  {
   "cell_type": "code",
   "execution_count": 66,
   "id": "fb1d64fa",
   "metadata": {},
   "outputs": [
    {
     "name": "stdout",
     "output_type": "stream",
     "text": [
      "['yes' 'no']\n"
     ]
    }
   ],
   "source": [
    "# Overall entropy of 'play'\n",
    "values = df.play.unique()\n",
    "print(values)"
   ]
  },
  {
   "cell_type": "code",
   "execution_count": 67,
   "id": "07f1646f",
   "metadata": {},
   "outputs": [
    {
     "data": {
      "text/plain": [
       "5"
      ]
     },
     "execution_count": 67,
     "metadata": {},
     "output_type": "execute_result"
    }
   ],
   "source": [
    "df.play.value_counts()['no']"
   ]
  },
  {
   "cell_type": "code",
   "execution_count": 68,
   "id": "8018cb79",
   "metadata": {},
   "outputs": [
    {
     "name": "stdout",
     "output_type": "stream",
     "text": [
      "entropy_node: 0.9402859586706311\n",
      "0.9402859586706311\n"
     ]
    }
   ],
   "source": [
    "entropy_node = 0\n",
    "for value in values:\n",
    "    fraction = df.play.value_counts()[value]/len(df.play)\n",
    "    entropy_node += -fraction*np.log2(fraction)\n",
    "print(f'entropy_node: {entropy_node}')\n",
    "print(entropy_node)"
   ]
  },
  {
   "cell_type": "code",
   "execution_count": 69,
   "id": "f0c0a706",
   "metadata": {},
   "outputs": [
    {
     "name": "stdout",
     "output_type": "stream",
     "text": [
      "['FALSE' 'TRUE'] ['yes' 'no']\n"
     ]
    }
   ],
   "source": [
    "#windy\n",
    "target_variables = df.play.unique()\n",
    "variables = df['windy'].unique()\n",
    "print(variables, target_variables)"
   ]
  },
  {
   "cell_type": "code",
   "execution_count": 70,
   "id": "91683480",
   "metadata": {},
   "outputs": [
    {
     "name": "stdout",
     "output_type": "stream",
     "text": [
      "0.8921589282623617\n"
     ]
    }
   ],
   "source": [
    "entropy_windy = 0\n",
    "for variable in variables:\n",
    "    entropy_each_feature = 0\n",
    "    for target_variable in target_variables:\n",
    "        num = len(df['windy'][df['windy']==variable][df.play == target_variable])\n",
    "        den = len(df['windy'][df['windy']==variable])\n",
    "        fraction = num/den\n",
    "        entropy_each_feature += -fraction*np.log2(fraction)\n",
    "    fraction2 = den/len(df)\n",
    "    entropy_windy += fraction2*entropy_each_feature\n",
    "print(entropy_windy)"
   ]
  },
  {
   "cell_type": "code",
   "execution_count": 71,
   "id": "fa71597a",
   "metadata": {},
   "outputs": [],
   "source": [
    "eps = 0.000000000000001"
   ]
  },
  {
   "cell_type": "code",
   "execution_count": 72,
   "id": "8005f759",
   "metadata": {},
   "outputs": [],
   "source": [
    "def ent (df, attribute):\n",
    "    target_variables = df.play.unique()\n",
    "    variables = df[attribute].unique()\n",
    "    \n",
    "    \n",
    "    entropy_attribute = 0\n",
    "    for variable in variables:\n",
    "        entropy_each_feature = 0\n",
    "        for target_variable in target_variables:\n",
    "            num = len(df[attribute][df[attribute]==variable][df.play == target_variable])\n",
    "            den = len(df[attribute][df[attribute]==variable])\n",
    "            fraction = num/(den+eps)\n",
    "            entropy_each_feature += -fraction*np.log2(fraction+eps)\n",
    "        fraction2 = den/len(df)\n",
    "        entropy_attribute += fraction2*entropy_each_feature\n",
    "        \n",
    "    return (entropy_attribute) "
   ]
  },
  {
   "cell_type": "code",
   "execution_count": 73,
   "id": "578e8cfd",
   "metadata": {},
   "outputs": [
    {
     "data": {
      "text/plain": [
       "Index(['Outlook', 'temp', 'humidity', 'windy'], dtype='object')"
      ]
     },
     "execution_count": 73,
     "metadata": {},
     "output_type": "execute_result"
    }
   ],
   "source": [
    "df.keys()[:-1]"
   ]
  },
  {
   "cell_type": "code",
   "execution_count": 74,
   "id": "4784fc8e",
   "metadata": {},
   "outputs": [
    {
     "name": "stdout",
     "output_type": "stream",
     "text": [
      "{'Outlook': 0.6935361388961896, 'temp': 0.9110633930116735, 'humidity': 0.7884504573082867, 'windy': 0.8921589282623588}\n"
     ]
    }
   ],
   "source": [
    "list_entropy = {k: ent(df, k) for k in df.keys()[:-1]}\n",
    "print(list_entropy)"
   ]
  },
  {
   "cell_type": "code",
   "execution_count": 75,
   "id": "f785179c",
   "metadata": {},
   "outputs": [],
   "source": [
    "# Information Gain\n",
    "def ig (a, b):\n",
    "    return (a-b)"
   ]
  },
  {
   "cell_type": "code",
   "execution_count": 76,
   "id": "68a1d557",
   "metadata": {},
   "outputs": [
    {
     "name": "stdout",
     "output_type": "stream",
     "text": [
      "{'Outlook': 0.24674981977444155, 'temp': 0.029222565658957644, 'humidity': 0.15183550136234447, 'windy': 0.048127030408272375}\n"
     ]
    }
   ],
   "source": [
    "list_ig = {k: ig(entropy_node, list_entropy[k]) for k in list_entropy}\n",
    "print(list_ig)"
   ]
  },
  {
   "cell_type": "markdown",
   "id": "e70a014a",
   "metadata": {},
   "source": [
    "# Decision Tree with skearn"
   ]
  },
  {
   "cell_type": "code",
   "execution_count": 77,
   "id": "e80612a3",
   "metadata": {},
   "outputs": [
    {
     "data": {
      "text/html": [
       "<div>\n",
       "<style scoped>\n",
       "    .dataframe tbody tr th:only-of-type {\n",
       "        vertical-align: middle;\n",
       "    }\n",
       "\n",
       "    .dataframe tbody tr th {\n",
       "        vertical-align: top;\n",
       "    }\n",
       "\n",
       "    .dataframe thead th {\n",
       "        text-align: right;\n",
       "    }\n",
       "</style>\n",
       "<table border=\"1\" class=\"dataframe\">\n",
       "  <thead>\n",
       "    <tr style=\"text-align: right;\">\n",
       "      <th></th>\n",
       "      <th>pregnants</th>\n",
       "      <th>glucose</th>\n",
       "      <th>bp</th>\n",
       "      <th>skin</th>\n",
       "      <th>insulin</th>\n",
       "      <th>bmi</th>\n",
       "      <th>pedigree</th>\n",
       "      <th>age</th>\n",
       "      <th>label</th>\n",
       "    </tr>\n",
       "  </thead>\n",
       "  <tbody>\n",
       "    <tr>\n",
       "      <th>0</th>\n",
       "      <td>6</td>\n",
       "      <td>148</td>\n",
       "      <td>72</td>\n",
       "      <td>35</td>\n",
       "      <td>0</td>\n",
       "      <td>33.6</td>\n",
       "      <td>0.627</td>\n",
       "      <td>50</td>\n",
       "      <td>1</td>\n",
       "    </tr>\n",
       "    <tr>\n",
       "      <th>1</th>\n",
       "      <td>1</td>\n",
       "      <td>85</td>\n",
       "      <td>66</td>\n",
       "      <td>29</td>\n",
       "      <td>0</td>\n",
       "      <td>26.6</td>\n",
       "      <td>0.351</td>\n",
       "      <td>31</td>\n",
       "      <td>0</td>\n",
       "    </tr>\n",
       "    <tr>\n",
       "      <th>2</th>\n",
       "      <td>8</td>\n",
       "      <td>183</td>\n",
       "      <td>64</td>\n",
       "      <td>0</td>\n",
       "      <td>0</td>\n",
       "      <td>23.3</td>\n",
       "      <td>0.672</td>\n",
       "      <td>32</td>\n",
       "      <td>1</td>\n",
       "    </tr>\n",
       "    <tr>\n",
       "      <th>3</th>\n",
       "      <td>1</td>\n",
       "      <td>89</td>\n",
       "      <td>66</td>\n",
       "      <td>23</td>\n",
       "      <td>94</td>\n",
       "      <td>28.1</td>\n",
       "      <td>0.167</td>\n",
       "      <td>21</td>\n",
       "      <td>0</td>\n",
       "    </tr>\n",
       "    <tr>\n",
       "      <th>4</th>\n",
       "      <td>0</td>\n",
       "      <td>137</td>\n",
       "      <td>40</td>\n",
       "      <td>35</td>\n",
       "      <td>168</td>\n",
       "      <td>43.1</td>\n",
       "      <td>2.288</td>\n",
       "      <td>33</td>\n",
       "      <td>1</td>\n",
       "    </tr>\n",
       "  </tbody>\n",
       "</table>\n",
       "</div>"
      ],
      "text/plain": [
       "   pregnants  glucose  bp  skin  insulin   bmi  pedigree  age  label\n",
       "0          6      148  72    35        0  33.6     0.627   50      1\n",
       "1          1       85  66    29        0  26.6     0.351   31      0\n",
       "2          8      183  64     0        0  23.3     0.672   32      1\n",
       "3          1       89  66    23       94  28.1     0.167   21      0\n",
       "4          0      137  40    35      168  43.1     2.288   33      1"
      ]
     },
     "execution_count": 77,
     "metadata": {},
     "output_type": "execute_result"
    }
   ],
   "source": [
    "import pandas as pd\n",
    "col_names = ['pregnants', 'glucose', 'bp', 'skin', 'insulin', 'bmi', 'pedigree', 'age', 'label']\n",
    "dframe = pd.read_csv('dataset/Pima.csv', header = None, names = col_names)\n",
    "dframe.head()"
   ]
  },
  {
   "cell_type": "code",
   "execution_count": 78,
   "id": "55a079d0",
   "metadata": {},
   "outputs": [
    {
     "data": {
      "text/plain": [
       "9"
      ]
     },
     "execution_count": 78,
     "metadata": {},
     "output_type": "execute_result"
    }
   ],
   "source": [
    "dframe.shape[1]"
   ]
  },
  {
   "cell_type": "code",
   "execution_count": 79,
   "id": "916a54bf",
   "metadata": {},
   "outputs": [
    {
     "name": "stdout",
     "output_type": "stream",
     "text": [
      "(768, 8) (768,)\n"
     ]
    }
   ],
   "source": [
    "#Split Train and test samples\n",
    "X = dframe.drop(['label'], axis = 1)\n",
    "y = dframe.label\n",
    "print(X.shape, y.shape)"
   ]
  },
  {
   "cell_type": "code",
   "execution_count": 80,
   "id": "bff6e9b2",
   "metadata": {},
   "outputs": [],
   "source": [
    "from sklearn.model_selection import train_test_split\n",
    "X_train, X_test, y_train, y_test = train_test_split(X, y, test_size=0.3, random_state=1)"
   ]
  },
  {
   "cell_type": "code",
   "execution_count": 81,
   "id": "085a81ae",
   "metadata": {},
   "outputs": [],
   "source": [
    "#Let's build the decision tree model\n",
    "from sklearn.tree import DecisionTreeClassifier\n",
    "Model = DecisionTreeClassifier()\n",
    "Model_tree = Model.fit(X_train, y_train)"
   ]
  },
  {
   "cell_type": "code",
   "execution_count": 82,
   "id": "09331c9c",
   "metadata": {},
   "outputs": [
    {
     "name": "stdout",
     "output_type": "stream",
     "text": [
      "[0 1 0 1 0 0 0 0 0 0 1 1 1 1 1 1 0 1 0 1 1 0 1 1 0 1 0 1 0 0 0 1 0 1 1 1 0\n",
      " 0 0 1 0 0 0 0 0 0 0 0 0 0 0 1 1 0 1 0 1 0 0 1 0 0 0 0 1 0 0 1 1 1 1 1 0 0\n",
      " 1 0 1 0 0 1 1 0 0 0 0 1 0 1 1 0 0 0 1 0 1 0 1 0 1 0 0 1 1 0 0 0 0 1 1 0 1\n",
      " 0 0 0 0 0 0 0 0 0 0 1 0 0 0 0 0 0 0 0 1 0 0 0 0 0 0 1 0 0 1 0 0 1 0 0 0 0\n",
      " 0 0 1 0 0 0 1 0 0 0 0 0 1 0 0 0 1 0 0 1 1 1 1 1 0 0 1 0 0 0 0 0 1 1 0 0 0\n",
      " 0 0 1 0 0 0 0 0 0 1 0 0 0 0 1 1 1 0 0 0 1 0 0 0 1 0 0 0 1 1 1 0 0 0 0 0 0\n",
      " 0 0 0 0 0 0 0 1 0]\n"
     ]
    }
   ],
   "source": [
    "#Prediction on test sample\n",
    "y_pred = Model_tree.predict(X_test)\n",
    "y_pred_proba = Model_tree.predict_proba(X_test)\n",
    "print(y_pred)"
   ]
  },
  {
   "cell_type": "code",
   "execution_count": 83,
   "id": "42542098",
   "metadata": {},
   "outputs": [
    {
     "data": {
      "text/plain": [
       "array([[116,  30],\n",
       "       [ 40,  45]], dtype=int64)"
      ]
     },
     "execution_count": 83,
     "metadata": {},
     "output_type": "execute_result"
    }
   ],
   "source": [
    "#Confusion Matrix\n",
    "from sklearn.metrics import confusion_matrix\n",
    "confusion_matrix(y_test, Model.predict(X_test))"
   ]
  },
  {
   "cell_type": "code",
   "execution_count": 84,
   "id": "7665f9cb",
   "metadata": {},
   "outputs": [
    {
     "name": "stdout",
     "output_type": "stream",
     "text": [
      "Requirement already satisfied: graphviz in c:\\users\\bonas nelson\\appdata\\local\\programs\\python\\python39\\lib\\site-packages (0.19.2)\n"
     ]
    }
   ],
   "source": [
    "!pip install graphviz"
   ]
  },
  {
   "cell_type": "markdown",
   "id": "d751325f",
   "metadata": {},
   "source": [
    "# Let's Apply our GridSearchCV for Decision Tree"
   ]
  },
  {
   "cell_type": "code",
   "execution_count": 85,
   "id": "d15e164e",
   "metadata": {},
   "outputs": [],
   "source": [
    "from sklearn.model_selection import GridSearchCV\n",
    "params_grid = {'criterion': ['gini', 'entropy'], 'max_depth': np.arange(5, 20)}"
   ]
  },
  {
   "cell_type": "code",
   "execution_count": 86,
   "id": "3a80a8a1",
   "metadata": {},
   "outputs": [],
   "source": [
    "Model = DecisionTreeClassifier()"
   ]
  },
  {
   "cell_type": "code",
   "execution_count": 87,
   "id": "134136a3",
   "metadata": {},
   "outputs": [],
   "source": [
    "Model_Grid = GridSearchCV(Model, params_grid, cv=5)"
   ]
  },
  {
   "cell_type": "code",
   "execution_count": 88,
   "id": "983f2ee8",
   "metadata": {},
   "outputs": [
    {
     "data": {
      "text/plain": [
       "GridSearchCV(cv=5, estimator=DecisionTreeClassifier(),\n",
       "             param_grid={'criterion': ['gini', 'entropy'],\n",
       "                         'max_depth': array([ 5,  6,  7,  8,  9, 10, 11, 12, 13, 14, 15, 16, 17, 18, 19])})"
      ]
     },
     "execution_count": 88,
     "metadata": {},
     "output_type": "execute_result"
    }
   ],
   "source": [
    "Model_Grid.fit(X_train, y_train)"
   ]
  },
  {
   "cell_type": "code",
   "execution_count": 89,
   "id": "56ff1f74",
   "metadata": {},
   "outputs": [
    {
     "data": {
      "text/plain": [
       "{'criterion': 'entropy', 'max_depth': 7}"
      ]
     },
     "execution_count": 89,
     "metadata": {},
     "output_type": "execute_result"
    }
   ],
   "source": [
    "Model_Grid.best_params_"
   ]
  },
  {
   "cell_type": "code",
   "execution_count": 90,
   "id": "31716600",
   "metadata": {},
   "outputs": [
    {
     "data": {
      "text/plain": [
       "0.7170647282796816"
      ]
     },
     "execution_count": 90,
     "metadata": {},
     "output_type": "execute_result"
    }
   ],
   "source": [
    "Model_Grid.best_score_"
   ]
  },
  {
   "cell_type": "markdown",
   "id": "ed1c1b2a",
   "metadata": {},
   "source": [
    "# Ensemble Learning: Bagging --> Random Forest (RF)"
   ]
  },
  {
   "cell_type": "markdown",
   "id": "1963af49",
   "metadata": {},
   "source": [
    "### Application with sklearn"
   ]
  },
  {
   "cell_type": "code",
   "execution_count": 91,
   "id": "4d774c02",
   "metadata": {},
   "outputs": [],
   "source": [
    "import pandas as pd\n",
    "import numpy as np"
   ]
  },
  {
   "cell_type": "code",
   "execution_count": 92,
   "id": "5c682d78",
   "metadata": {},
   "outputs": [
    {
     "data": {
      "text/html": [
       "<div>\n",
       "<style scoped>\n",
       "    .dataframe tbody tr th:only-of-type {\n",
       "        vertical-align: middle;\n",
       "    }\n",
       "\n",
       "    .dataframe tbody tr th {\n",
       "        vertical-align: top;\n",
       "    }\n",
       "\n",
       "    .dataframe thead th {\n",
       "        text-align: right;\n",
       "    }\n",
       "</style>\n",
       "<table border=\"1\" class=\"dataframe\">\n",
       "  <thead>\n",
       "    <tr style=\"text-align: right;\">\n",
       "      <th></th>\n",
       "      <th>Age</th>\n",
       "      <th>Sex</th>\n",
       "      <th>ChestPainType</th>\n",
       "      <th>RestingBP</th>\n",
       "      <th>Cholesterol</th>\n",
       "      <th>FastingBS</th>\n",
       "      <th>RestingECG</th>\n",
       "      <th>MaxHR</th>\n",
       "      <th>ExerciseAngina</th>\n",
       "      <th>Oldpeak</th>\n",
       "      <th>ST_Slope</th>\n",
       "      <th>HeartDisease</th>\n",
       "    </tr>\n",
       "  </thead>\n",
       "  <tbody>\n",
       "    <tr>\n",
       "      <th>0</th>\n",
       "      <td>40</td>\n",
       "      <td>M</td>\n",
       "      <td>ATA</td>\n",
       "      <td>140</td>\n",
       "      <td>289</td>\n",
       "      <td>0</td>\n",
       "      <td>Normal</td>\n",
       "      <td>172</td>\n",
       "      <td>N</td>\n",
       "      <td>0.0</td>\n",
       "      <td>Up</td>\n",
       "      <td>0</td>\n",
       "    </tr>\n",
       "    <tr>\n",
       "      <th>1</th>\n",
       "      <td>49</td>\n",
       "      <td>F</td>\n",
       "      <td>NAP</td>\n",
       "      <td>160</td>\n",
       "      <td>180</td>\n",
       "      <td>0</td>\n",
       "      <td>Normal</td>\n",
       "      <td>156</td>\n",
       "      <td>N</td>\n",
       "      <td>1.0</td>\n",
       "      <td>Flat</td>\n",
       "      <td>1</td>\n",
       "    </tr>\n",
       "    <tr>\n",
       "      <th>2</th>\n",
       "      <td>37</td>\n",
       "      <td>M</td>\n",
       "      <td>ATA</td>\n",
       "      <td>130</td>\n",
       "      <td>283</td>\n",
       "      <td>0</td>\n",
       "      <td>ST</td>\n",
       "      <td>98</td>\n",
       "      <td>N</td>\n",
       "      <td>0.0</td>\n",
       "      <td>Up</td>\n",
       "      <td>0</td>\n",
       "    </tr>\n",
       "    <tr>\n",
       "      <th>3</th>\n",
       "      <td>48</td>\n",
       "      <td>F</td>\n",
       "      <td>ASY</td>\n",
       "      <td>138</td>\n",
       "      <td>214</td>\n",
       "      <td>0</td>\n",
       "      <td>Normal</td>\n",
       "      <td>108</td>\n",
       "      <td>Y</td>\n",
       "      <td>1.5</td>\n",
       "      <td>Flat</td>\n",
       "      <td>1</td>\n",
       "    </tr>\n",
       "    <tr>\n",
       "      <th>4</th>\n",
       "      <td>54</td>\n",
       "      <td>M</td>\n",
       "      <td>NAP</td>\n",
       "      <td>150</td>\n",
       "      <td>195</td>\n",
       "      <td>0</td>\n",
       "      <td>Normal</td>\n",
       "      <td>122</td>\n",
       "      <td>N</td>\n",
       "      <td>0.0</td>\n",
       "      <td>Up</td>\n",
       "      <td>0</td>\n",
       "    </tr>\n",
       "  </tbody>\n",
       "</table>\n",
       "</div>"
      ],
      "text/plain": [
       "   Age Sex ChestPainType  RestingBP  Cholesterol  FastingBS RestingECG  MaxHR  \\\n",
       "0   40   M           ATA        140          289          0     Normal    172   \n",
       "1   49   F           NAP        160          180          0     Normal    156   \n",
       "2   37   M           ATA        130          283          0         ST     98   \n",
       "3   48   F           ASY        138          214          0     Normal    108   \n",
       "4   54   M           NAP        150          195          0     Normal    122   \n",
       "\n",
       "  ExerciseAngina  Oldpeak ST_Slope  HeartDisease  \n",
       "0              N      0.0       Up             0  \n",
       "1              N      1.0     Flat             1  \n",
       "2              N      0.0       Up             0  \n",
       "3              Y      1.5     Flat             1  \n",
       "4              N      0.0       Up             0  "
      ]
     },
     "execution_count": 92,
     "metadata": {},
     "output_type": "execute_result"
    }
   ],
   "source": [
    "data = pd.read_csv('dataset/heart.csv')\n",
    "data.head()"
   ]
  },
  {
   "cell_type": "code",
   "execution_count": 93,
   "id": "a8f3a9b8",
   "metadata": {},
   "outputs": [],
   "source": [
    "df = pd.get_dummies(data)"
   ]
  },
  {
   "cell_type": "code",
   "execution_count": 94,
   "id": "dc2ddbdd",
   "metadata": {},
   "outputs": [
    {
     "name": "stdout",
     "output_type": "stream",
     "text": [
      "(918, 20) (918,)\n"
     ]
    }
   ],
   "source": [
    "# Create Train and Test split\n",
    "X = df.drop(['HeartDisease'], axis = 1)\n",
    "y = df.HeartDisease\n",
    "print(X.shape, y.shape)"
   ]
  },
  {
   "cell_type": "code",
   "execution_count": 95,
   "id": "9bb6841f",
   "metadata": {},
   "outputs": [
    {
     "name": "stdout",
     "output_type": "stream",
     "text": [
      "(642, 20) (276, 20) (642,) (276,)\n"
     ]
    }
   ],
   "source": [
    "from sklearn.model_selection import train_test_split\n",
    "X_train, X_test, y_train, y_test = train_test_split(X, y, test_size=0.3, random_state=1)\n",
    "print(X_train.shape, X_test.shape, y_train.shape, y_test.shape)"
   ]
  },
  {
   "cell_type": "code",
   "execution_count": 96,
   "id": "909b8510",
   "metadata": {},
   "outputs": [
    {
     "data": {
      "text/plain": [
       "RandomForestClassifier()"
      ]
     },
     "execution_count": 96,
     "metadata": {},
     "output_type": "execute_result"
    }
   ],
   "source": [
    "from sklearn.ensemble import RandomForestClassifier\n",
    "Model_RF = RandomForestClassifier()\n",
    "Model_RF.fit(X_train, y_train)"
   ]
  },
  {
   "cell_type": "code",
   "execution_count": 97,
   "id": "0102dfe7",
   "metadata": {},
   "outputs": [
    {
     "data": {
      "text/plain": [
       "array([0.075081  , 0.06716605, 0.09908089, 0.02212151, 0.0915511 ,\n",
       "       0.0899739 , 0.02007227, 0.02221673, 0.087913  , 0.02013011,\n",
       "       0.01268544, 0.00481136, 0.01355765, 0.00962671, 0.00946058,\n",
       "       0.05008927, 0.04567909, 0.00624968, 0.12782176, 0.12471191])"
      ]
     },
     "execution_count": 97,
     "metadata": {},
     "output_type": "execute_result"
    }
   ],
   "source": [
    "Model_RF.feature_importances_"
   ]
  },
  {
   "cell_type": "code",
   "execution_count": 98,
   "id": "40148c9e",
   "metadata": {},
   "outputs": [
    {
     "data": {
      "text/html": [
       "<div>\n",
       "<style scoped>\n",
       "    .dataframe tbody tr th:only-of-type {\n",
       "        vertical-align: middle;\n",
       "    }\n",
       "\n",
       "    .dataframe tbody tr th {\n",
       "        vertical-align: top;\n",
       "    }\n",
       "\n",
       "    .dataframe thead th {\n",
       "        text-align: right;\n",
       "    }\n",
       "</style>\n",
       "<table border=\"1\" class=\"dataframe\">\n",
       "  <thead>\n",
       "    <tr style=\"text-align: right;\">\n",
       "      <th></th>\n",
       "      <th>importance</th>\n",
       "    </tr>\n",
       "  </thead>\n",
       "  <tbody>\n",
       "    <tr>\n",
       "      <th>ChestPainType_TA</th>\n",
       "      <td>0.004811</td>\n",
       "    </tr>\n",
       "    <tr>\n",
       "      <th>ST_Slope_Down</th>\n",
       "      <td>0.006250</td>\n",
       "    </tr>\n",
       "    <tr>\n",
       "      <th>RestingECG_ST</th>\n",
       "      <td>0.009461</td>\n",
       "    </tr>\n",
       "    <tr>\n",
       "      <th>RestingECG_Normal</th>\n",
       "      <td>0.009627</td>\n",
       "    </tr>\n",
       "    <tr>\n",
       "      <th>ChestPainType_NAP</th>\n",
       "      <td>0.012685</td>\n",
       "    </tr>\n",
       "    <tr>\n",
       "      <th>RestingECG_LVH</th>\n",
       "      <td>0.013558</td>\n",
       "    </tr>\n",
       "    <tr>\n",
       "      <th>Sex_F</th>\n",
       "      <td>0.020072</td>\n",
       "    </tr>\n",
       "    <tr>\n",
       "      <th>ChestPainType_ATA</th>\n",
       "      <td>0.020130</td>\n",
       "    </tr>\n",
       "    <tr>\n",
       "      <th>FastingBS</th>\n",
       "      <td>0.022122</td>\n",
       "    </tr>\n",
       "    <tr>\n",
       "      <th>Sex_M</th>\n",
       "      <td>0.022217</td>\n",
       "    </tr>\n",
       "    <tr>\n",
       "      <th>ExerciseAngina_Y</th>\n",
       "      <td>0.045679</td>\n",
       "    </tr>\n",
       "    <tr>\n",
       "      <th>ExerciseAngina_N</th>\n",
       "      <td>0.050089</td>\n",
       "    </tr>\n",
       "    <tr>\n",
       "      <th>RestingBP</th>\n",
       "      <td>0.067166</td>\n",
       "    </tr>\n",
       "    <tr>\n",
       "      <th>Age</th>\n",
       "      <td>0.075081</td>\n",
       "    </tr>\n",
       "    <tr>\n",
       "      <th>ChestPainType_ASY</th>\n",
       "      <td>0.087913</td>\n",
       "    </tr>\n",
       "    <tr>\n",
       "      <th>Oldpeak</th>\n",
       "      <td>0.089974</td>\n",
       "    </tr>\n",
       "    <tr>\n",
       "      <th>MaxHR</th>\n",
       "      <td>0.091551</td>\n",
       "    </tr>\n",
       "    <tr>\n",
       "      <th>Cholesterol</th>\n",
       "      <td>0.099081</td>\n",
       "    </tr>\n",
       "    <tr>\n",
       "      <th>ST_Slope_Up</th>\n",
       "      <td>0.124712</td>\n",
       "    </tr>\n",
       "    <tr>\n",
       "      <th>ST_Slope_Flat</th>\n",
       "      <td>0.127822</td>\n",
       "    </tr>\n",
       "  </tbody>\n",
       "</table>\n",
       "</div>"
      ],
      "text/plain": [
       "                   importance\n",
       "ChestPainType_TA     0.004811\n",
       "ST_Slope_Down        0.006250\n",
       "RestingECG_ST        0.009461\n",
       "RestingECG_Normal    0.009627\n",
       "ChestPainType_NAP    0.012685\n",
       "RestingECG_LVH       0.013558\n",
       "Sex_F                0.020072\n",
       "ChestPainType_ATA    0.020130\n",
       "FastingBS            0.022122\n",
       "Sex_M                0.022217\n",
       "ExerciseAngina_Y     0.045679\n",
       "ExerciseAngina_N     0.050089\n",
       "RestingBP            0.067166\n",
       "Age                  0.075081\n",
       "ChestPainType_ASY    0.087913\n",
       "Oldpeak              0.089974\n",
       "MaxHR                0.091551\n",
       "Cholesterol          0.099081\n",
       "ST_Slope_Up          0.124712\n",
       "ST_Slope_Flat        0.127822"
      ]
     },
     "execution_count": 98,
     "metadata": {},
     "output_type": "execute_result"
    }
   ],
   "source": [
    "pd.DataFrame(Model_RF.feature_importances_, index = X_train.columns, \n",
    "            columns = ['importance']).sort_values('importance')"
   ]
  },
  {
   "cell_type": "code",
   "execution_count": 99,
   "id": "db3a5e63",
   "metadata": {},
   "outputs": [
    {
     "data": {
      "text/plain": [
       "array([[ 94,  15],\n",
       "       [ 16, 151]], dtype=int64)"
      ]
     },
     "execution_count": 99,
     "metadata": {},
     "output_type": "execute_result"
    }
   ],
   "source": [
    "#Confusion Matrix\n",
    "from sklearn.metrics import confusion_matrix\n",
    "confusion_matrix(y_test, Model_RF.predict(X_test))"
   ]
  },
  {
   "cell_type": "code",
   "execution_count": 100,
   "id": "ec74fc33",
   "metadata": {},
   "outputs": [
    {
     "name": "stdout",
     "output_type": "stream",
     "text": [
      "              precision    recall  f1-score   support\n",
      "\n",
      "           0       0.85      0.86      0.86       109\n",
      "           1       0.91      0.90      0.91       167\n",
      "\n",
      "    accuracy                           0.89       276\n",
      "   macro avg       0.88      0.88      0.88       276\n",
      "weighted avg       0.89      0.89      0.89       276\n",
      "\n"
     ]
    }
   ],
   "source": [
    "from sklearn.metrics import classification_report\n",
    "print(classification_report(y_test, Model_RF.predict(X_test)))"
   ]
  },
  {
   "cell_type": "markdown",
   "id": "7cd4ceb7",
   "metadata": {},
   "source": [
    "# GridSearch with Random Forest"
   ]
  },
  {
   "cell_type": "markdown",
   "id": "0641d5f5",
   "metadata": {},
   "source": [
    "### List Of Hyper parameters to be used for GridSearch\n",
    "\n",
    "**n_estimators :** il s’agit du nombre d’arbres dans la forêt\n",
    "\n",
    "**criterion :** il s’agit du critère utilisé pour construire les arbres et séparer les branches des arbres\n",
    "\n",
    "**max_depth :** il s’agit de la profondeur maximale des arbres utilisés (le nombre de niveaux dans l’arbre de décision)\n",
    "\n",
    "**min_sample_split :** il s’agit du nombre d’échantillons minimal dans une feuille pour refaire une séparation\n",
    "\n",
    "**min_samples_leaf :** il s’agit du nombre d’échantillons minimal pour créer une feuille\n",
    "\n",
    "**min_weight_fraction_leaf :** il s’agit de la fraction du nombre total d’échantillon minimal pour créer une feuille\n",
    "\n",
    "**max_features :** il s’agit du nombre de colonnes sélectionnées pour chaque arbre (par défaut on prend la racine carré du nombre de colonnes)\n",
    "\n",
    "**max_leaf_nodes :** il s’agit du nombre maximal de feuilles\n",
    "\n",
    "**min_impurity_decrease :** il s’agit de la baisse minimale du critère d’impureté pour faire une séparation\n",
    "\n",
    "**bootstrap :** paramètre pour utiliser du bootstrap, si il est à False, le même échantillon est pris pour chaque arbre\n",
    "\n",
    "**n_jobs :** nombre de traitements à effectuer en parallèle\n",
    "random_state : graine aléatoire\n",
    "\n",
    "**warm_start :** ceci permet de repartir du résultat du dernier apprentissage pour faire l’apprentissage\n",
    "\n",
    "**class_weights :** il s’agit des poids associés à chaque classe si cela a un sens\n",
    "\n",
    "**max_samples :** si vous voulez réduire le nombre d’observations dans vos échantillons bootstrap"
   ]
  },
  {
   "cell_type": "code",
   "execution_count": 101,
   "id": "ece6065f",
   "metadata": {},
   "outputs": [],
   "source": [
    "from sklearn.model_selection import GridSearchCV"
   ]
  },
  {
   "cell_type": "code",
   "execution_count": 102,
   "id": "9dc89d6b",
   "metadata": {},
   "outputs": [],
   "source": [
    "# Definition of hyperparameters\n",
    "n_estimators = [int(x) for x in np.linspace(10, 80, 10)]\n",
    "max_features = ['auto', 'sqrt']\n",
    "max_depth = [2, 4]\n",
    "min_samples_split = [2, 5]\n",
    "min_samples_leaf = [1, 2]\n",
    "criterion = ['gini', 'entropy']\n",
    "bootstrap = [True, False]"
   ]
  },
  {
   "cell_type": "code",
   "execution_count": 103,
   "id": "47136edb",
   "metadata": {},
   "outputs": [
    {
     "name": "stdout",
     "output_type": "stream",
     "text": [
      "{'n_estimators': [10, 17, 25, 33, 41, 48, 56, 64, 72, 80], 'max_features': ['auto', 'sqrt'], 'max_depth': [2, 4], 'min_samples_split': [2, 5], 'min_samples_leaf': [1, 2], 'criterion': ['gini', 'entropy'], 'bootstrap': [True, False]}\n"
     ]
    }
   ],
   "source": [
    "params_grid = {'n_estimators': n_estimators, \n",
    "               'max_features': max_features,\n",
    "               'max_depth': max_depth,\n",
    "               'min_samples_split': min_samples_split,\n",
    "               'min_samples_leaf': min_samples_leaf,\n",
    "               'criterion': criterion,\n",
    "               'bootstrap': bootstrap\n",
    "              }\n",
    "print(params_grid)"
   ]
  },
  {
   "cell_type": "code",
   "execution_count": 104,
   "id": "1f8ccd02",
   "metadata": {},
   "outputs": [],
   "source": [
    "from sklearn.ensemble import RandomForestClassifier\n",
    "rf_Model = RandomForestClassifier()"
   ]
  },
  {
   "cell_type": "code",
   "execution_count": 105,
   "id": "1da48f44",
   "metadata": {},
   "outputs": [],
   "source": [
    "rf_grid = GridSearchCV(estimator=rf_Model, param_grid = params_grid, cv=3)"
   ]
  },
  {
   "cell_type": "code",
   "execution_count": 106,
   "id": "86db262f",
   "metadata": {},
   "outputs": [
    {
     "data": {
      "text/plain": [
       "GridSearchCV(cv=3, estimator=RandomForestClassifier(),\n",
       "             param_grid={'bootstrap': [True, False],\n",
       "                         'criterion': ['gini', 'entropy'], 'max_depth': [2, 4],\n",
       "                         'max_features': ['auto', 'sqrt'],\n",
       "                         'min_samples_leaf': [1, 2],\n",
       "                         'min_samples_split': [2, 5],\n",
       "                         'n_estimators': [10, 17, 25, 33, 41, 48, 56, 64, 72,\n",
       "                                          80]})"
      ]
     },
     "execution_count": 106,
     "metadata": {},
     "output_type": "execute_result"
    }
   ],
   "source": [
    "rf_grid.fit(X_train, y_train)"
   ]
  },
  {
   "cell_type": "code",
   "execution_count": 107,
   "id": "1e945a4b",
   "metadata": {},
   "outputs": [
    {
     "data": {
      "text/plain": [
       "{'bootstrap': True,\n",
       " 'criterion': 'gini',\n",
       " 'max_depth': 4,\n",
       " 'max_features': 'auto',\n",
       " 'min_samples_leaf': 2,\n",
       " 'min_samples_split': 5,\n",
       " 'n_estimators': 48}"
      ]
     },
     "execution_count": 107,
     "metadata": {},
     "output_type": "execute_result"
    }
   ],
   "source": [
    "rf_grid.best_params_"
   ]
  },
  {
   "cell_type": "code",
   "execution_count": 108,
   "id": "06468640",
   "metadata": {},
   "outputs": [
    {
     "data": {
      "text/plain": [
       "0.869158878504673"
      ]
     },
     "execution_count": 108,
     "metadata": {},
     "output_type": "execute_result"
    }
   ],
   "source": [
    "rf_grid.best_score_"
   ]
  },
  {
   "cell_type": "code",
   "execution_count": 109,
   "id": "35d313be",
   "metadata": {},
   "outputs": [],
   "source": [
    "rf_Model = RandomForestClassifier(\n",
    "            bootstrap= False,\n",
    "            criterion= 'entropy',\n",
    "            max_depth= 4,\n",
    "            max_features= 'auto',\n",
    "            min_samples_leaf= 2,\n",
    "            min_samples_split= 5,\n",
    "            n_estimators= 10,)"
   ]
  },
  {
   "cell_type": "code",
   "execution_count": 110,
   "id": "a10ce4f5",
   "metadata": {},
   "outputs": [
    {
     "data": {
      "text/plain": [
       "RandomForestClassifier(bootstrap=False, criterion='entropy', max_depth=4,\n",
       "                       min_samples_leaf=2, min_samples_split=5,\n",
       "                       n_estimators=10)"
      ]
     },
     "execution_count": 110,
     "metadata": {},
     "output_type": "execute_result"
    }
   ],
   "source": [
    "rf_Model.fit(X_train, y_train)"
   ]
  },
  {
   "cell_type": "code",
   "execution_count": 111,
   "id": "8dcaf698",
   "metadata": {},
   "outputs": [
    {
     "data": {
      "text/plain": [
       "array([[ 91,  18],\n",
       "       [ 14, 153]], dtype=int64)"
      ]
     },
     "execution_count": 111,
     "metadata": {},
     "output_type": "execute_result"
    }
   ],
   "source": [
    "#Confusion Matrix\n",
    "from sklearn.metrics import confusion_matrix\n",
    "confusion_matrix(y_test, rf_Model.predict(X_test))"
   ]
  },
  {
   "cell_type": "code",
   "execution_count": 112,
   "id": "31d3985e",
   "metadata": {},
   "outputs": [
    {
     "name": "stdout",
     "output_type": "stream",
     "text": [
      "              precision    recall  f1-score   support\n",
      "\n",
      "           0       0.87      0.83      0.85       109\n",
      "           1       0.89      0.92      0.91       167\n",
      "\n",
      "    accuracy                           0.88       276\n",
      "   macro avg       0.88      0.88      0.88       276\n",
      "weighted avg       0.88      0.88      0.88       276\n",
      "\n"
     ]
    }
   ],
   "source": [
    "from sklearn.metrics import classification_report\n",
    "print(classification_report(y_test, rf_Model.predict(X_test)))"
   ]
  },
  {
   "cell_type": "code",
   "execution_count": 113,
   "id": "a9d2308c",
   "metadata": {},
   "outputs": [
    {
     "data": {
      "text/html": [
       "<div>\n",
       "<style scoped>\n",
       "    .dataframe tbody tr th:only-of-type {\n",
       "        vertical-align: middle;\n",
       "    }\n",
       "\n",
       "    .dataframe tbody tr th {\n",
       "        vertical-align: top;\n",
       "    }\n",
       "\n",
       "    .dataframe thead th {\n",
       "        text-align: right;\n",
       "    }\n",
       "</style>\n",
       "<table border=\"1\" class=\"dataframe\">\n",
       "  <thead>\n",
       "    <tr style=\"text-align: right;\">\n",
       "      <th></th>\n",
       "      <th>importance</th>\n",
       "    </tr>\n",
       "  </thead>\n",
       "  <tbody>\n",
       "    <tr>\n",
       "      <th>ChestPainType_TA</th>\n",
       "      <td>0.000000</td>\n",
       "    </tr>\n",
       "    <tr>\n",
       "      <th>RestingECG_Normal</th>\n",
       "      <td>0.000365</td>\n",
       "    </tr>\n",
       "    <tr>\n",
       "      <th>RestingECG_LVH</th>\n",
       "      <td>0.001531</td>\n",
       "    </tr>\n",
       "    <tr>\n",
       "      <th>RestingECG_ST</th>\n",
       "      <td>0.003338</td>\n",
       "    </tr>\n",
       "    <tr>\n",
       "      <th>Age</th>\n",
       "      <td>0.010081</td>\n",
       "    </tr>\n",
       "    <tr>\n",
       "      <th>ST_Slope_Down</th>\n",
       "      <td>0.011835</td>\n",
       "    </tr>\n",
       "    <tr>\n",
       "      <th>ChestPainType_NAP</th>\n",
       "      <td>0.011929</td>\n",
       "    </tr>\n",
       "    <tr>\n",
       "      <th>FastingBS</th>\n",
       "      <td>0.013034</td>\n",
       "    </tr>\n",
       "    <tr>\n",
       "      <th>ChestPainType_ATA</th>\n",
       "      <td>0.014031</td>\n",
       "    </tr>\n",
       "    <tr>\n",
       "      <th>RestingBP</th>\n",
       "      <td>0.015795</td>\n",
       "    </tr>\n",
       "    <tr>\n",
       "      <th>Sex_M</th>\n",
       "      <td>0.020305</td>\n",
       "    </tr>\n",
       "    <tr>\n",
       "      <th>Sex_F</th>\n",
       "      <td>0.032685</td>\n",
       "    </tr>\n",
       "    <tr>\n",
       "      <th>MaxHR</th>\n",
       "      <td>0.041390</td>\n",
       "    </tr>\n",
       "    <tr>\n",
       "      <th>ExerciseAngina_Y</th>\n",
       "      <td>0.060194</td>\n",
       "    </tr>\n",
       "    <tr>\n",
       "      <th>Cholesterol</th>\n",
       "      <td>0.060775</td>\n",
       "    </tr>\n",
       "    <tr>\n",
       "      <th>Oldpeak</th>\n",
       "      <td>0.071218</td>\n",
       "    </tr>\n",
       "    <tr>\n",
       "      <th>ExerciseAngina_N</th>\n",
       "      <td>0.073526</td>\n",
       "    </tr>\n",
       "    <tr>\n",
       "      <th>ChestPainType_ASY</th>\n",
       "      <td>0.102489</td>\n",
       "    </tr>\n",
       "    <tr>\n",
       "      <th>ST_Slope_Up</th>\n",
       "      <td>0.222661</td>\n",
       "    </tr>\n",
       "    <tr>\n",
       "      <th>ST_Slope_Flat</th>\n",
       "      <td>0.232819</td>\n",
       "    </tr>\n",
       "  </tbody>\n",
       "</table>\n",
       "</div>"
      ],
      "text/plain": [
       "                   importance\n",
       "ChestPainType_TA     0.000000\n",
       "RestingECG_Normal    0.000365\n",
       "RestingECG_LVH       0.001531\n",
       "RestingECG_ST        0.003338\n",
       "Age                  0.010081\n",
       "ST_Slope_Down        0.011835\n",
       "ChestPainType_NAP    0.011929\n",
       "FastingBS            0.013034\n",
       "ChestPainType_ATA    0.014031\n",
       "RestingBP            0.015795\n",
       "Sex_M                0.020305\n",
       "Sex_F                0.032685\n",
       "MaxHR                0.041390\n",
       "ExerciseAngina_Y     0.060194\n",
       "Cholesterol          0.060775\n",
       "Oldpeak              0.071218\n",
       "ExerciseAngina_N     0.073526\n",
       "ChestPainType_ASY    0.102489\n",
       "ST_Slope_Up          0.222661\n",
       "ST_Slope_Flat        0.232819"
      ]
     },
     "execution_count": 113,
     "metadata": {},
     "output_type": "execute_result"
    }
   ],
   "source": [
    "pd.DataFrame(rf_Model.feature_importances_, index = X_train.columns, \n",
    "            columns = ['importance']).sort_values('importance')"
   ]
  },
  {
   "cell_type": "markdown",
   "id": "fda7751f",
   "metadata": {},
   "source": [
    "# Dimension Reduction: PCA"
   ]
  }
 ],
 "metadata": {
  "kernelspec": {
   "display_name": "Python 3 (ipykernel)",
   "language": "python",
   "name": "python3"
  },
  "language_info": {
   "codemirror_mode": {
    "name": "ipython",
    "version": 3
   },
   "file_extension": ".py",
   "mimetype": "text/x-python",
   "name": "python",
   "nbconvert_exporter": "python",
   "pygments_lexer": "ipython3",
   "version": "3.9.2"
  }
 },
 "nbformat": 4,
 "nbformat_minor": 5
}
