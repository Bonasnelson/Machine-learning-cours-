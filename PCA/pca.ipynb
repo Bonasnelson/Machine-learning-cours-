{
 "cells": [
  {
   "cell_type": "code",
   "execution_count": 18,
   "metadata": {},
   "outputs": [],
   "source": [
    "import matplotlib.pyplot as plt, numpy as np, pandas as pd\n",
    "from sklearn.preprocessing import StandardScaler\n",
    "from sklearn.decomposition import PCA"
   ]
  },
  {
   "cell_type": "code",
   "execution_count": 5,
   "metadata": {},
   "outputs": [],
   "source": [
    "data = pd.read_csv('../dataset/Varr_supp.csv', index_col = 0)"
   ]
  },
  {
   "cell_type": "code",
   "execution_count": 6,
   "metadata": {},
   "outputs": [
    {
     "data": {
      "text/html": [
       "<div>\n",
       "<style scoped>\n",
       "    .dataframe tbody tr th:only-of-type {\n",
       "        vertical-align: middle;\n",
       "    }\n",
       "\n",
       "    .dataframe tbody tr th {\n",
       "        vertical-align: top;\n",
       "    }\n",
       "\n",
       "    .dataframe thead th {\n",
       "        text-align: right;\n",
       "    }\n",
       "</style>\n",
       "<table border=\"1\" class=\"dataframe\">\n",
       "  <thead>\n",
       "    <tr style=\"text-align: right;\">\n",
       "      <th></th>\n",
       "      <th>PRIX</th>\n",
       "      <th>R_POIDS_PUIS</th>\n",
       "      <th>FINITION</th>\n",
       "    </tr>\n",
       "    <tr>\n",
       "      <th>Modele</th>\n",
       "      <th></th>\n",
       "      <th></th>\n",
       "      <th></th>\n",
       "    </tr>\n",
       "  </thead>\n",
       "  <tbody>\n",
       "    <tr>\n",
       "      <th>Alfasud TI</th>\n",
       "      <td>30570</td>\n",
       "      <td>11.013</td>\n",
       "      <td>2_B</td>\n",
       "    </tr>\n",
       "    <tr>\n",
       "      <th>Audi 100</th>\n",
       "      <td>39990</td>\n",
       "      <td>13.059</td>\n",
       "      <td>3_TB</td>\n",
       "    </tr>\n",
       "    <tr>\n",
       "      <th>Simca 1300</th>\n",
       "      <td>29600</td>\n",
       "      <td>15.441</td>\n",
       "      <td>1_M</td>\n",
       "    </tr>\n",
       "    <tr>\n",
       "      <th>Citroen GS Club</th>\n",
       "      <td>28250</td>\n",
       "      <td>15.763</td>\n",
       "      <td>1_M</td>\n",
       "    </tr>\n",
       "    <tr>\n",
       "      <th>Fiat 132</th>\n",
       "      <td>34900</td>\n",
       "      <td>11.276</td>\n",
       "      <td>2_B</td>\n",
       "    </tr>\n",
       "    <tr>\n",
       "      <th>Lancia Beta</th>\n",
       "      <td>35480</td>\n",
       "      <td>13.171</td>\n",
       "      <td>3_TB</td>\n",
       "    </tr>\n",
       "    <tr>\n",
       "      <th>Peugeot 504</th>\n",
       "      <td>32300</td>\n",
       "      <td>14.684</td>\n",
       "      <td>2_B</td>\n",
       "    </tr>\n",
       "    <tr>\n",
       "      <th>Renault 16 TL</th>\n",
       "      <td>32000</td>\n",
       "      <td>18.364</td>\n",
       "      <td>2_B</td>\n",
       "    </tr>\n",
       "    <tr>\n",
       "      <th>Renault 30</th>\n",
       "      <td>47700</td>\n",
       "      <td>10.313</td>\n",
       "      <td>3_TB</td>\n",
       "    </tr>\n",
       "    <tr>\n",
       "      <th>Toyota Corolla</th>\n",
       "      <td>26540</td>\n",
       "      <td>14.818</td>\n",
       "      <td>1_M</td>\n",
       "    </tr>\n",
       "    <tr>\n",
       "      <th>Alfetta-1.66</th>\n",
       "      <td>42395</td>\n",
       "      <td>9.725</td>\n",
       "      <td>3_TB</td>\n",
       "    </tr>\n",
       "    <tr>\n",
       "      <th>Princess-1800</th>\n",
       "      <td>33990</td>\n",
       "      <td>14.146</td>\n",
       "      <td>2_B</td>\n",
       "    </tr>\n",
       "    <tr>\n",
       "      <th>Datsun-200L</th>\n",
       "      <td>43980</td>\n",
       "      <td>11.913</td>\n",
       "      <td>3_TB</td>\n",
       "    </tr>\n",
       "    <tr>\n",
       "      <th>Taunus-2000</th>\n",
       "      <td>35010</td>\n",
       "      <td>11.020</td>\n",
       "      <td>2_B</td>\n",
       "    </tr>\n",
       "    <tr>\n",
       "      <th>Rancho</th>\n",
       "      <td>39450</td>\n",
       "      <td>14.113</td>\n",
       "      <td>3_TB</td>\n",
       "    </tr>\n",
       "    <tr>\n",
       "      <th>Mazda-9295</th>\n",
       "      <td>27900</td>\n",
       "      <td>13.193</td>\n",
       "      <td>1_M</td>\n",
       "    </tr>\n",
       "    <tr>\n",
       "      <th>Opel-Rekord</th>\n",
       "      <td>32700</td>\n",
       "      <td>11.200</td>\n",
       "      <td>2_B</td>\n",
       "    </tr>\n",
       "    <tr>\n",
       "      <th>Lada-1300</th>\n",
       "      <td>22100</td>\n",
       "      <td>14.044</td>\n",
       "      <td>1_M</td>\n",
       "    </tr>\n",
       "  </tbody>\n",
       "</table>\n",
       "</div>"
      ],
      "text/plain": [
       "                  PRIX  R_POIDS_PUIS FINITION\n",
       "Modele                                       \n",
       "Alfasud TI       30570        11.013      2_B\n",
       "Audi 100         39990        13.059     3_TB\n",
       "Simca 1300       29600        15.441      1_M\n",
       "Citroen GS Club  28250        15.763      1_M\n",
       "Fiat 132         34900        11.276      2_B\n",
       "Lancia Beta      35480        13.171     3_TB\n",
       "Peugeot 504      32300        14.684      2_B\n",
       "Renault 16 TL    32000        18.364      2_B\n",
       "Renault 30       47700        10.313     3_TB\n",
       "Toyota Corolla   26540        14.818      1_M\n",
       "Alfetta-1.66     42395         9.725     3_TB\n",
       "Princess-1800    33990        14.146      2_B\n",
       "Datsun-200L      43980        11.913     3_TB\n",
       "Taunus-2000      35010        11.020      2_B\n",
       "Rancho           39450        14.113     3_TB\n",
       "Mazda-9295       27900        13.193      1_M\n",
       "Opel-Rekord      32700        11.200      2_B\n",
       "Lada-1300        22100        14.044      1_M"
      ]
     },
     "execution_count": 6,
     "metadata": {},
     "output_type": "execute_result"
    }
   ],
   "source": [
    "data"
   ]
  },
  {
   "cell_type": "code",
   "execution_count": 10,
   "metadata": {},
   "outputs": [],
   "source": [
    "data = pd.get_dummies(data)"
   ]
  },
  {
   "cell_type": "code",
   "execution_count": 11,
   "metadata": {},
   "outputs": [
    {
     "data": {
      "text/html": [
       "<div>\n",
       "<style scoped>\n",
       "    .dataframe tbody tr th:only-of-type {\n",
       "        vertical-align: middle;\n",
       "    }\n",
       "\n",
       "    .dataframe tbody tr th {\n",
       "        vertical-align: top;\n",
       "    }\n",
       "\n",
       "    .dataframe thead th {\n",
       "        text-align: right;\n",
       "    }\n",
       "</style>\n",
       "<table border=\"1\" class=\"dataframe\">\n",
       "  <thead>\n",
       "    <tr style=\"text-align: right;\">\n",
       "      <th></th>\n",
       "      <th>PRIX</th>\n",
       "      <th>R_POIDS_PUIS</th>\n",
       "      <th>FINITION_1_M</th>\n",
       "      <th>FINITION_2_B</th>\n",
       "      <th>FINITION_3_TB</th>\n",
       "    </tr>\n",
       "    <tr>\n",
       "      <th>Modele</th>\n",
       "      <th></th>\n",
       "      <th></th>\n",
       "      <th></th>\n",
       "      <th></th>\n",
       "      <th></th>\n",
       "    </tr>\n",
       "  </thead>\n",
       "  <tbody>\n",
       "    <tr>\n",
       "      <th>Alfasud TI</th>\n",
       "      <td>30570</td>\n",
       "      <td>11.013</td>\n",
       "      <td>0</td>\n",
       "      <td>1</td>\n",
       "      <td>0</td>\n",
       "    </tr>\n",
       "    <tr>\n",
       "      <th>Audi 100</th>\n",
       "      <td>39990</td>\n",
       "      <td>13.059</td>\n",
       "      <td>0</td>\n",
       "      <td>0</td>\n",
       "      <td>1</td>\n",
       "    </tr>\n",
       "    <tr>\n",
       "      <th>Simca 1300</th>\n",
       "      <td>29600</td>\n",
       "      <td>15.441</td>\n",
       "      <td>1</td>\n",
       "      <td>0</td>\n",
       "      <td>0</td>\n",
       "    </tr>\n",
       "    <tr>\n",
       "      <th>Citroen GS Club</th>\n",
       "      <td>28250</td>\n",
       "      <td>15.763</td>\n",
       "      <td>1</td>\n",
       "      <td>0</td>\n",
       "      <td>0</td>\n",
       "    </tr>\n",
       "    <tr>\n",
       "      <th>Fiat 132</th>\n",
       "      <td>34900</td>\n",
       "      <td>11.276</td>\n",
       "      <td>0</td>\n",
       "      <td>1</td>\n",
       "      <td>0</td>\n",
       "    </tr>\n",
       "    <tr>\n",
       "      <th>Lancia Beta</th>\n",
       "      <td>35480</td>\n",
       "      <td>13.171</td>\n",
       "      <td>0</td>\n",
       "      <td>0</td>\n",
       "      <td>1</td>\n",
       "    </tr>\n",
       "    <tr>\n",
       "      <th>Peugeot 504</th>\n",
       "      <td>32300</td>\n",
       "      <td>14.684</td>\n",
       "      <td>0</td>\n",
       "      <td>1</td>\n",
       "      <td>0</td>\n",
       "    </tr>\n",
       "    <tr>\n",
       "      <th>Renault 16 TL</th>\n",
       "      <td>32000</td>\n",
       "      <td>18.364</td>\n",
       "      <td>0</td>\n",
       "      <td>1</td>\n",
       "      <td>0</td>\n",
       "    </tr>\n",
       "    <tr>\n",
       "      <th>Renault 30</th>\n",
       "      <td>47700</td>\n",
       "      <td>10.313</td>\n",
       "      <td>0</td>\n",
       "      <td>0</td>\n",
       "      <td>1</td>\n",
       "    </tr>\n",
       "    <tr>\n",
       "      <th>Toyota Corolla</th>\n",
       "      <td>26540</td>\n",
       "      <td>14.818</td>\n",
       "      <td>1</td>\n",
       "      <td>0</td>\n",
       "      <td>0</td>\n",
       "    </tr>\n",
       "    <tr>\n",
       "      <th>Alfetta-1.66</th>\n",
       "      <td>42395</td>\n",
       "      <td>9.725</td>\n",
       "      <td>0</td>\n",
       "      <td>0</td>\n",
       "      <td>1</td>\n",
       "    </tr>\n",
       "    <tr>\n",
       "      <th>Princess-1800</th>\n",
       "      <td>33990</td>\n",
       "      <td>14.146</td>\n",
       "      <td>0</td>\n",
       "      <td>1</td>\n",
       "      <td>0</td>\n",
       "    </tr>\n",
       "    <tr>\n",
       "      <th>Datsun-200L</th>\n",
       "      <td>43980</td>\n",
       "      <td>11.913</td>\n",
       "      <td>0</td>\n",
       "      <td>0</td>\n",
       "      <td>1</td>\n",
       "    </tr>\n",
       "    <tr>\n",
       "      <th>Taunus-2000</th>\n",
       "      <td>35010</td>\n",
       "      <td>11.020</td>\n",
       "      <td>0</td>\n",
       "      <td>1</td>\n",
       "      <td>0</td>\n",
       "    </tr>\n",
       "    <tr>\n",
       "      <th>Rancho</th>\n",
       "      <td>39450</td>\n",
       "      <td>14.113</td>\n",
       "      <td>0</td>\n",
       "      <td>0</td>\n",
       "      <td>1</td>\n",
       "    </tr>\n",
       "    <tr>\n",
       "      <th>Mazda-9295</th>\n",
       "      <td>27900</td>\n",
       "      <td>13.193</td>\n",
       "      <td>1</td>\n",
       "      <td>0</td>\n",
       "      <td>0</td>\n",
       "    </tr>\n",
       "    <tr>\n",
       "      <th>Opel-Rekord</th>\n",
       "      <td>32700</td>\n",
       "      <td>11.200</td>\n",
       "      <td>0</td>\n",
       "      <td>1</td>\n",
       "      <td>0</td>\n",
       "    </tr>\n",
       "    <tr>\n",
       "      <th>Lada-1300</th>\n",
       "      <td>22100</td>\n",
       "      <td>14.044</td>\n",
       "      <td>1</td>\n",
       "      <td>0</td>\n",
       "      <td>0</td>\n",
       "    </tr>\n",
       "  </tbody>\n",
       "</table>\n",
       "</div>"
      ],
      "text/plain": [
       "                  PRIX  R_POIDS_PUIS  FINITION_1_M  FINITION_2_B  \\\n",
       "Modele                                                             \n",
       "Alfasud TI       30570        11.013             0             1   \n",
       "Audi 100         39990        13.059             0             0   \n",
       "Simca 1300       29600        15.441             1             0   \n",
       "Citroen GS Club  28250        15.763             1             0   \n",
       "Fiat 132         34900        11.276             0             1   \n",
       "Lancia Beta      35480        13.171             0             0   \n",
       "Peugeot 504      32300        14.684             0             1   \n",
       "Renault 16 TL    32000        18.364             0             1   \n",
       "Renault 30       47700        10.313             0             0   \n",
       "Toyota Corolla   26540        14.818             1             0   \n",
       "Alfetta-1.66     42395         9.725             0             0   \n",
       "Princess-1800    33990        14.146             0             1   \n",
       "Datsun-200L      43980        11.913             0             0   \n",
       "Taunus-2000      35010        11.020             0             1   \n",
       "Rancho           39450        14.113             0             0   \n",
       "Mazda-9295       27900        13.193             1             0   \n",
       "Opel-Rekord      32700        11.200             0             1   \n",
       "Lada-1300        22100        14.044             1             0   \n",
       "\n",
       "                 FINITION_3_TB  \n",
       "Modele                          \n",
       "Alfasud TI                   0  \n",
       "Audi 100                     1  \n",
       "Simca 1300                   0  \n",
       "Citroen GS Club              0  \n",
       "Fiat 132                     0  \n",
       "Lancia Beta                  1  \n",
       "Peugeot 504                  0  \n",
       "Renault 16 TL                0  \n",
       "Renault 30                   1  \n",
       "Toyota Corolla               0  \n",
       "Alfetta-1.66                 1  \n",
       "Princess-1800                0  \n",
       "Datsun-200L                  1  \n",
       "Taunus-2000                  0  \n",
       "Rancho                       1  \n",
       "Mazda-9295                   0  \n",
       "Opel-Rekord                  0  \n",
       "Lada-1300                    0  "
      ]
     },
     "execution_count": 11,
     "metadata": {},
     "output_type": "execute_result"
    }
   ],
   "source": [
    "data"
   ]
  },
  {
   "cell_type": "code",
   "execution_count": 12,
   "metadata": {},
   "outputs": [
    {
     "name": "stdout",
     "output_type": "stream",
     "text": [
      "<class 'pandas.core.frame.DataFrame'>\n",
      "Index: 18 entries, Alfasud TI to Lada-1300\n",
      "Data columns (total 5 columns):\n",
      " #   Column         Non-Null Count  Dtype  \n",
      "---  ------         --------------  -----  \n",
      " 0   PRIX           18 non-null     int64  \n",
      " 1   R_POIDS_PUIS   18 non-null     float64\n",
      " 2   FINITION_1_M   18 non-null     uint8  \n",
      " 3   FINITION_2_B   18 non-null     uint8  \n",
      " 4   FINITION_3_TB  18 non-null     uint8  \n",
      "dtypes: float64(1), int64(1), uint8(3)\n",
      "memory usage: 486.0+ bytes\n"
     ]
    }
   ],
   "source": [
    "data.info()"
   ]
  },
  {
   "cell_type": "code",
   "execution_count": 13,
   "metadata": {},
   "outputs": [
    {
     "data": {
      "text/plain": [
       "StandardScaler()"
      ]
     },
     "execution_count": 13,
     "metadata": {},
     "output_type": "execute_result"
    }
   ],
   "source": [
    "scaler = StandardScaler()\n",
    "scaler.fit(data)"
   ]
  },
  {
   "cell_type": "code",
   "execution_count": 17,
   "metadata": {},
   "outputs": [
    {
     "name": "stdout",
     "output_type": "stream",
     "text": [
      "[[-0.5619123  -0.99857454 -0.62017367  1.25356634 -0.70710678]\n",
      " [ 0.91309117 -0.05614455 -0.62017367 -0.79772404  1.41421356]\n",
      " [-0.71379694  1.041054    1.61245155 -0.79772404 -0.70710678]\n",
      " [-0.92518279  1.18937388  1.61245155 -0.79772404 -0.70710678]\n",
      " [ 0.11608824 -0.87743129 -0.62017367  1.25356634 -0.70710678]\n",
      " [ 0.20690586 -0.00455503 -0.62017367 -0.79772404  1.41421356]\n",
      " [-0.29102525  0.69236412 -0.62017367  1.25356634 -0.70710678]\n",
      " [-0.33799988  2.38744837 -0.62017367  1.25356634 -0.70710678]\n",
      " [ 2.12033923 -1.32100904 -0.62017367 -0.79772404  1.41421356]\n",
      " [-1.1929382   0.7540873   1.61245155 -0.79772404 -0.70710678]\n",
      " [ 1.28967114 -1.59185402 -0.62017367 -0.79772404  1.41421356]\n",
      " [-0.02640148  0.44455017 -0.62017367  1.25356634 -0.70710678]\n",
      " [ 1.53785379 -0.58401589 -0.62017367 -0.79772404  1.41421356]\n",
      " [ 0.13331227 -0.99535019 -0.62017367  1.25356634 -0.70710678]\n",
      " [ 0.82853683  0.42934969 -0.62017367 -0.79772404  1.41421356]\n",
      " [-0.97998653  0.00557863  1.61245155 -0.79772404 -0.70710678]\n",
      " [-0.2283924  -0.91243846 -0.62017367  1.25356634 -0.70710678]\n",
      " [-1.88816276  0.39756686  1.61245155 -0.79772404 -0.70710678]]\n"
     ]
    }
   ],
   "source": [
    "scaled_data = scaler.transform(data)\n",
    "print(scaled_data)"
   ]
  },
  {
   "cell_type": "code",
   "execution_count": 38,
   "metadata": {},
   "outputs": [],
   "source": [
    "pca= PCA()"
   ]
  },
  {
   "cell_type": "code",
   "execution_count": 39,
   "metadata": {},
   "outputs": [],
   "source": [
    "x_pca = pca.fit_transform(scaled_data)"
   ]
  },
  {
   "cell_type": "code",
   "execution_count": 40,
   "metadata": {},
   "outputs": [
    {
     "data": {
      "text/plain": [
       "array([[-9.74722126e-02,  1.68377891e+00, -8.78020541e-01,\n",
       "         3.91673547e-01,  1.45760560e-16],\n",
       "       [ 1.64149689e+00, -8.78664291e-01,  5.88125690e-01,\n",
       "         2.13100727e-01, -1.17741872e-16],\n",
       "       [-1.89466031e+00, -1.24036522e+00,  6.94638477e-02,\n",
       "        -4.43389645e-01,  2.88157813e-16],\n",
       "       [-2.07887849e+00, -1.25462106e+00,  1.64405230e-01,\n",
       "        -2.89996920e-01,  9.23390764e-17],\n",
       "       [ 2.47829914e-01,  1.65381282e+00, -6.46778607e-01,\n",
       "        -1.56738753e-01, -1.82456137e-17],\n",
       "       [ 1.20870331e+00, -8.69995904e-01,  5.06839476e-01,\n",
       "         7.67506990e-01,  2.10033343e-16],\n",
       "       [-6.35278657e-01,  1.46351102e+00,  6.88741599e-01,\n",
       "         1.72993782e-02,  7.22087910e-17],\n",
       "       [-1.36004224e+00,  1.24956387e+00,  2.20179348e+00,\n",
       "        -1.05727385e-01, -3.33447066e-17],\n",
       "       [ 2.86547462e+00, -7.44265936e-01, -3.29114096e-01,\n",
       "        -6.23449831e-01, -1.44232518e-17],\n",
       "       [-2.05584354e+00, -1.19365379e+00, -2.74694322e-01,\n",
       "        -3.67947666e-02, -8.33283624e-17],\n",
       "       [ 2.49278682e+00, -6.92027369e-01, -7.22315157e-01,\n",
       "         6.00224385e-02,  5.60274913e-17],\n",
       "       [-3.79099565e-01,  1.48923731e+00,  5.14111532e-01,\n",
       "        -1.68851794e-01, -5.04087817e-17],\n",
       "       [ 2.22278731e+00, -8.25180115e-01,  2.27180947e-01,\n",
       "        -2.31799562e-01, -4.68939897e-19],\n",
       "       [ 3.06382021e-01,  1.66839549e+00, -7.49512771e-01,\n",
       "        -1.59233389e-01, -1.53738881e-17],\n",
       "       [ 1.39247755e+00, -9.38410108e-01,  1.00863706e+00,\n",
       "         2.34174003e-01,  6.70083078e-18],\n",
       "       [-1.62378490e+00, -1.10331985e+00, -9.08093466e-01,\n",
       "        -1.34694113e-01, -2.47865073e-17],\n",
       "       [ 6.14672084e-02,  1.66567200e+00, -7.40442643e-01,\n",
       "         1.19391223e-01,  6.28858406e-17],\n",
       "       [-2.31434574e+00, -1.13346778e+00, -7.20327263e-01,\n",
       "         5.47507852e-01, -1.55609019e-16]])"
      ]
     },
     "execution_count": 40,
     "metadata": {},
     "output_type": "execute_result"
    }
   ],
   "source": [
    "x_pca"
   ]
  },
  {
   "cell_type": "code",
   "execution_count": 41,
   "metadata": {},
   "outputs": [
    {
     "data": {
      "text/plain": [
       "array([5.35073362e-01, 3.13467594e-01, 1.29316080e-01, 2.21429644e-02,\n",
       "       2.43711135e-33])"
      ]
     },
     "execution_count": 41,
     "metadata": {},
     "output_type": "execute_result"
    }
   ],
   "source": [
    "pca.explained_variance_ratio_"
   ]
  },
  {
   "cell_type": "code",
   "execution_count": 46,
   "metadata": {},
   "outputs": [
    {
     "data": {
      "text/plain": [
       "0.9778570355648085"
      ]
     },
     "execution_count": 46,
     "metadata": {},
     "output_type": "execute_result"
    }
   ],
   "source": [
    "np.sum(pca.explained_variance_ratio_)"
   ]
  },
  {
   "cell_type": "code",
   "execution_count": 43,
   "metadata": {},
   "outputs": [
    {
     "data": {
      "text/plain": [
       "array([2.83274133e+00, 1.65953432e+00, 6.84614540e-01, 1.17227459e-01,\n",
       "       1.29023542e-32])"
      ]
     },
     "execution_count": 43,
     "metadata": {},
     "output_type": "execute_result"
    }
   ],
   "source": [
    "pca.explained_variance_"
   ]
  }
 ],
 "metadata": {
  "interpreter": {
   "hash": "aa7146d4c1a12161272e7931a5de19d4c46ea1ea93acbb11666f6ac8b35f8224"
  },
  "kernelspec": {
   "display_name": "Python 3.9.2 64-bit",
   "language": "python",
   "name": "python3"
  },
  "language_info": {
   "codemirror_mode": {
    "name": "ipython",
    "version": 3
   },
   "file_extension": ".py",
   "mimetype": "text/x-python",
   "name": "python",
   "nbconvert_exporter": "python",
   "pygments_lexer": "ipython3",
   "version": "3.9.2"
  },
  "orig_nbformat": 4
 },
 "nbformat": 4,
 "nbformat_minor": 2
}
