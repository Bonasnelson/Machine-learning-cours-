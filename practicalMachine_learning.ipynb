{
 "cells": [
  {
   "cell_type": "code",
   "execution_count": 7,
   "metadata": {},
   "outputs": [],
   "source": [
    "import numpy as np\n",
    "import scipy as sp"
   ]
  },
  {
   "cell_type": "code",
   "execution_count": 3,
   "metadata": {},
   "outputs": [
    {
     "data": {
      "text/plain": [
       "array([[1, 5, 2],\n",
       "       [4, 7, 4],\n",
       "       [2, 0, 9]])"
      ]
     },
     "execution_count": 3,
     "metadata": {},
     "output_type": "execute_result"
    }
   ],
   "source": [
    " m = np.array([[1, 5, 2],[4, 7, 4],[2, 0, 9]])\n",
    " m"
   ]
  },
  {
   "cell_type": "code",
   "execution_count": 4,
   "metadata": {},
   "outputs": [
    {
     "data": {
      "text/plain": [
       "array([[1, 4, 2],\n",
       "       [5, 7, 0],\n",
       "       [2, 4, 9]])"
      ]
     },
     "execution_count": 4,
     "metadata": {},
     "output_type": "execute_result"
    }
   ],
   "source": [
    "m.transpose()"
   ]
  },
  {
   "cell_type": "code",
   "execution_count": 5,
   "metadata": {},
   "outputs": [
    {
     "data": {
      "text/plain": [
       "array([[-0.6       ,  0.42857143, -0.05714286],\n",
       "       [ 0.26666667, -0.04761905, -0.03809524],\n",
       "       [ 0.13333333, -0.0952381 ,  0.12380952]])"
      ]
     },
     "execution_count": 5,
     "metadata": {},
     "output_type": "execute_result"
    }
   ],
   "source": [
    "np.linalg.inv(m)"
   ]
  },
  {
   "cell_type": "code",
   "execution_count": 6,
   "metadata": {},
   "outputs": [
    {
     "data": {
      "text/plain": [
       "-105.00000000000006"
      ]
     },
     "execution_count": 6,
     "metadata": {},
     "output_type": "execute_result"
    }
   ],
   "source": [
    "np.linalg.det(m)"
   ]
  },
  {
   "cell_type": "code",
   "execution_count": 18,
   "metadata": {},
   "outputs": [
    {
     "data": {
      "text/plain": [
       "array([[ 7, 10, 15, 47, 45, 63, 49, 95, 34, 66, 60, 95, 66, 99, 40, 30,\n",
       "        35, 39, 44, 67, 91, 74,  1, 43, 65, 10, 47, 35, 97, 92,  8, 96,\n",
       "        92, 87, 58, 65,  3, 12, 32, 70, 47, 13, 67, 84, 53, 76, 91, 47,\n",
       "        67, 12, 66, 97, 64, 51, 81,  1, 10,  2, 58, 65, 40, 17, 89, 26,\n",
       "        50, 59, 85, 73, 59, 10, 53, 58, 55, 94, 38,  6, 17, 52, 72, 76,\n",
       "        21, 69, 77, 93, 54, 12, 22, 31, 18, 39, 38, 75, 22, 81,  3, 50,\n",
       "        62, 77, 43, 66, 73,  8, 46, 59, 43, 33, 55, 25,  2, 38, 58, 56,\n",
       "        31, 26, 21, 35, 17, 71,  5, 49, 96, 44, 17, 22, 37, 90, 82, 80,\n",
       "        76, 57, 51, 87, 30, 12, 98, 48, 34, 54, 46, 56, 57, 66, 93, 86,\n",
       "        93, 90, 34, 53, 90, 70, 59, 75, 87, 58,  4, 42, 81, 25,  9, 10,\n",
       "        41, 36, 78, 97, 54, 35, 78, 69, 47, 11, 43, 61, 40, 47, 67, 77,\n",
       "        44, 27, 46, 79, 94, 11, 97, 50, 25,  9, 89, 53, 82, 37, 14, 64,\n",
       "        84, 62, 55, 42, 17, 62, 94, 36]])"
      ]
     },
     "execution_count": 18,
     "metadata": {},
     "output_type": "execute_result"
    }
   ],
   "source": [
    "nums = np.random.randint(1,100, size=(1,200)) \n",
    "nums"
   ]
  },
  {
   "cell_type": "code",
   "execution_count": 34,
   "metadata": {},
   "outputs": [
    {
     "name": "stdout",
     "output_type": "stream",
     "text": [
      "Mean: 51.61\n",
      "Median: 53.0\n",
      "Standard Deviation: 27.293367326147205\n",
      "Variance: 744.9278999999999\n"
     ]
    }
   ],
   "source": [
    "# get descriptive stats\n",
    "print ('Mean:', np.mean(nums)),\n",
    "print ('Median:', np.median(nums))\n",
    "# print ('Mode:', np.mode(nums))\n",
    "print ('Standard Deviation:', np.std(nums))\n",
    "print ('Variance:', np.var(nums))\n",
    "# print ('Skew:', np.stats.skew(nums))\n",
    "# print ('Kurtosis:', np.kurtosis(nums))"
   ]
  }
 ],
 "metadata": {
  "interpreter": {
   "hash": "aa7146d4c1a12161272e7931a5de19d4c46ea1ea93acbb11666f6ac8b35f8224"
  },
  "kernelspec": {
   "display_name": "Python 3.9.2 64-bit",
   "language": "python",
   "name": "python3"
  },
  "language_info": {
   "codemirror_mode": {
    "name": "ipython",
    "version": 3
   },
   "file_extension": ".py",
   "mimetype": "text/x-python",
   "name": "python",
   "nbconvert_exporter": "python",
   "pygments_lexer": "ipython3",
   "version": "3.9.2"
  },
  "orig_nbformat": 4
 },
 "nbformat": 4,
 "nbformat_minor": 2
}
