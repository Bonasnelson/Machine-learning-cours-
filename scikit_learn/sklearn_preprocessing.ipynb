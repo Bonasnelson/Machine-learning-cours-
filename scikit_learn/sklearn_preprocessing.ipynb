{
 "cells": [
  {
   "cell_type": "markdown",
   "metadata": {},
   "source": [
    "the effect of data preprocessing on the prediction"
   ]
  },
  {
   "cell_type": "code",
   "execution_count": 45,
   "metadata": {},
   "outputs": [],
   "source": [
    "import pandas as pd, seaborn as sns, matplotlib.pyplot as plt, numpy as np\n",
    "from sklearn.ensemble import RandomForestClassifier\n",
    "from sklearn.metrics import confusion_matrix, classification_report, accuracy_score,recall_score\n",
    "from sklearn.preprocessing import StandardScaler, LabelEncoder, PolynomialFeatures, QuantileTransformer, OneHotEncoder#net yet used\n",
    "from sklearn.model_selection import train_test_split\n",
    "from sklearn.linear_model import LinearRegression\n",
    "from sklearn.neighbors import KNeighborsRegressor\n",
    "from sklearn.pipeline import Pipeline\n",
    "from sklearn.model_selection import GridSearchCV\n",
    "%matplotlib inline"
   ]
  },
  {
   "cell_type": "code",
   "execution_count": 3,
   "metadata": {},
   "outputs": [],
   "source": [
    "data = pd.read_csv('../dataset/Pima.csv')"
   ]
  },
  {
   "cell_type": "code",
   "execution_count": 4,
   "metadata": {},
   "outputs": [
    {
     "data": {
      "text/plain": [
       "6        0\n",
       "148      0\n",
       "72       0\n",
       "35       0\n",
       "0        0\n",
       "33.6     0\n",
       "0.627    0\n",
       "50       0\n",
       "1        0\n",
       "dtype: int64"
      ]
     },
     "execution_count": 4,
     "metadata": {},
     "output_type": "execute_result"
    }
   ],
   "source": [
    "data.isnull().sum()"
   ]
  },
  {
   "cell_type": "code",
   "execution_count": 6,
   "metadata": {},
   "outputs": [],
   "source": [
    "X = data.drop(['1'],axis= 1)\n",
    "y = data['1']"
   ]
  },
  {
   "cell_type": "code",
   "execution_count": 16,
   "metadata": {},
   "outputs": [],
   "source": [
    "X_train,X_test, y_train, y_test = train_test_split(X, y, test_size =0.3,random_state=23)"
   ]
  },
  {
   "cell_type": "code",
   "execution_count": 18,
   "metadata": {},
   "outputs": [],
   "source": [
    "rfc = RandomForestClassifier()\n",
    "knn = KNeighborsRegressor()\n",
    "clf = LinearRegression()"
   ]
  },
  {
   "cell_type": "code",
   "execution_count": 19,
   "metadata": {},
   "outputs": [
    {
     "data": {
      "text/plain": [
       "LinearRegression()"
      ]
     },
     "execution_count": 19,
     "metadata": {},
     "output_type": "execute_result"
    }
   ],
   "source": [
    "rfc.fit(X_train, y_train)\n",
    "knn.fit(X_train, y_train)\n",
    "clf.fit(X_train, y_train)"
   ]
  },
  {
   "cell_type": "code",
   "execution_count": 20,
   "metadata": {},
   "outputs": [],
   "source": [
    "pred_rfc = rfc.predict(X_test)\n",
    "pred_knn = knn.predict(X_test)\n",
    "pred_clf = clf.predict(X_test)"
   ]
  },
  {
   "cell_type": "code",
   "execution_count": 26,
   "metadata": {},
   "outputs": [
    {
     "name": "stdout",
     "output_type": "stream",
     "text": [
      "              precision    recall  f1-score   support\n",
      "\n",
      "           0       0.84      0.82      0.83       156\n",
      "           1       0.65      0.68      0.66        75\n",
      "\n",
      "    accuracy                           0.77       231\n",
      "   macro avg       0.74      0.75      0.75       231\n",
      "weighted avg       0.78      0.77      0.78       231\n",
      "\n",
      "              precision    recall  f1-score   support\n",
      "\n",
      "           0       0.78      0.81      0.80       156\n",
      "           1       0.57      0.52      0.55        75\n",
      "\n",
      "    accuracy                           0.72       231\n",
      "   macro avg       0.68      0.67      0.67       231\n",
      "weighted avg       0.71      0.72      0.71       231\n",
      "\n",
      "              precision    recall  f1-score   support\n",
      "\n",
      "           0       0.83      0.88      0.85       156\n",
      "           1       0.71      0.61      0.66        75\n",
      "\n",
      "    accuracy                           0.79       231\n",
      "   macro avg       0.77      0.75      0.75       231\n",
      "weighted avg       0.79      0.79      0.79       231\n",
      "\n"
     ]
    }
   ],
   "source": [
    "print(classification_report(y_test, pred_rfc))\n",
    "print(classification_report(y_test,  np.round(abs(pred_knn))))\n",
    "print(classification_report(y_test, np.round(abs(pred_clf))))"
   ]
  },
  {
   "cell_type": "code",
   "execution_count": 31,
   "metadata": {},
   "outputs": [],
   "source": [
    "recall_list=[]\n",
    "accuracy_list = []\n",
    "indexs = [1,2,3]\n",
    "recall_list.append(recall_score(y_test,pred_rfc))\n",
    "recall_list.append(recall_score(y_test,  np.round(abs(pred_knn))))\n",
    "recall_list.append(recall_score(y_test,  np.round(abs(pred_clf))))\n",
    "accuracy_list.append(accuracy_score(y_test,pred_rfc))\n",
    "accuracy_list.append(accuracy_score(y_test,  np.round(abs(pred_knn))))\n",
    "accuracy_list.append(accuracy_score(y_test,  np.round(abs(pred_clf))))"
   ]
  },
  {
   "cell_type": "code",
   "execution_count": 32,
   "metadata": {},
   "outputs": [
    {
     "data": {
      "text/plain": [
       "<matplotlib.legend.Legend at 0x7dc21c1af0>"
      ]
     },
     "execution_count": 32,
     "metadata": {},
     "output_type": "execute_result"
    },
    {
     "data": {
      "image/png": "[encoded data removed]",
      "text/plain": [
       "<Figure size 432x288 with 1 Axes>"
      ]
     },
     "metadata": {
      "needs_background": "light"
     },
     "output_type": "display_data"
    }
   ],
   "source": [
    "plt.plot(indexs, recall_list, label=\"recall\")\n",
    "plt.plot(indexs, accuracy_list, label=\"accuracy\")\n",
    "plt.ylabel(\"score\")\n",
    "plt.xlabel(\"indexs\")\n",
    "plt.legend()"
   ]
  },
  {
   "cell_type": "markdown",
   "metadata": {},
   "source": [
    "transformation with StandardScaler"
   ]
  },
  {
   "cell_type": "code",
   "execution_count": 34,
   "metadata": {},
   "outputs": [],
   "source": [
    "pipe = Pipeline([\n",
    "    (\"scale\", StandardScaler()),\n",
    "    (\"model\", RandomForestClassifier())\n",
    "])\n",
    "pipe2 = Pipeline([\n",
    "    (\"scale\", StandardScaler()),\n",
    "    (\"model\", KNeighborsRegressor())\n",
    "])\n",
    "pipe3 = Pipeline([\n",
    "    (\"scale\", StandardScaler()),\n",
    "    (\"model\", LinearRegression())\n",
    "])"
   ]
  },
  {
   "cell_type": "code",
   "execution_count": 37,
   "metadata": {},
   "outputs": [],
   "source": [
    "pred_rfc = pipe.fit(X_train, y_train).predict(X_test)\n",
    "pred_knn = pipe2.fit(X_train, y_train).predict(X_test)\n",
    "pred_clf = pipe3.fit(X_train, y_train).predict(X_test)\n"
   ]
  },
  {
   "cell_type": "code",
   "execution_count": 38,
   "metadata": {},
   "outputs": [
    {
     "name": "stdout",
     "output_type": "stream",
     "text": [
      "              precision    recall  f1-score   support\n",
      "\n",
      "           0       0.82      0.86      0.84       156\n",
      "           1       0.68      0.61      0.64        75\n",
      "\n",
      "    accuracy                           0.78       231\n",
      "   macro avg       0.75      0.74      0.74       231\n",
      "weighted avg       0.77      0.78      0.78       231\n",
      "\n",
      "              precision    recall  f1-score   support\n",
      "\n",
      "           0       0.80      0.80      0.80       156\n",
      "           1       0.58      0.57      0.58        75\n",
      "\n",
      "    accuracy                           0.73       231\n",
      "   macro avg       0.69      0.69      0.69       231\n",
      "weighted avg       0.73      0.73      0.73       231\n",
      "\n",
      "              precision    recall  f1-score   support\n",
      "\n",
      "           0       0.83      0.88      0.85       156\n",
      "           1       0.71      0.61      0.66        75\n",
      "\n",
      "    accuracy                           0.79       231\n",
      "   macro avg       0.77      0.75      0.75       231\n",
      "weighted avg       0.79      0.79      0.79       231\n",
      "\n"
     ]
    }
   ],
   "source": [
    "print(classification_report(y_test, pred_rfc))\n",
    "print(classification_report(y_test,  np.round(abs(pred_knn))))\n",
    "print(classification_report(y_test, np.round(abs(pred_clf))))"
   ]
  },
  {
   "cell_type": "code",
   "execution_count": 39,
   "metadata": {},
   "outputs": [
    {
     "data": {
      "text/plain": [
       "<matplotlib.legend.Legend at 0x7dc22a9f70>"
      ]
     },
     "execution_count": 39,
     "metadata": {},
     "output_type": "execute_result"
    },
    {
     "data": {
      "image/png": "[encoded data removed]",
      "text/plain": [
       "<Figure size 432x288 with 1 Axes>"
      ]
     },
     "metadata": {
      "needs_background": "light"
     },
     "output_type": "display_data"
    }
   ],
   "source": [
    "recall_list=[]\n",
    "accuracy_list = []\n",
    "indexs = [1,2,3]\n",
    "recall_list.append(recall_score(y_test,pred_rfc))\n",
    "recall_list.append(recall_score(y_test,  np.round(abs(pred_knn))))\n",
    "recall_list.append(recall_score(y_test,  np.round(abs(pred_clf))))\n",
    "accuracy_list.append(accuracy_score(y_test,pred_rfc))\n",
    "accuracy_list.append(accuracy_score(y_test,  np.round(abs(pred_knn))))\n",
    "accuracy_list.append(accuracy_score(y_test,  np.round(abs(pred_clf))))\n",
    "plt.plot(indexs, recall_list, label=\"recall\")\n",
    "plt.plot(indexs, accuracy_list, label=\"accuracy\")\n",
    "plt.ylabel(\"score\")\n",
    "plt.xlabel(\"indexs\")\n",
    "plt.legend()"
   ]
  },
  {
   "cell_type": "markdown",
   "metadata": {},
   "source": [
    "transformation with QuantileTransformer"
   ]
  },
  {
   "cell_type": "code",
   "execution_count": 40,
   "metadata": {},
   "outputs": [
    {
     "data": {
      "text/plain": [
       "[0.6133333333333333, 0.5733333333333334, 0.6133333333333333]"
      ]
     },
     "execution_count": 40,
     "metadata": {},
     "output_type": "execute_result"
    }
   ],
   "source": [
    "pipe = Pipeline([\n",
    "    (\"scale\", QuantileTransformer(n_quantiles=500)),\n",
    "    (\"model\", RandomForestClassifier())\n",
    "])\n",
    "pipe2 = Pipeline([\n",
    "    (\"scale\", QuantileTransformer(n_quantiles=500)),\n",
    "    (\"model\", KNeighborsRegressor())\n",
    "])\n",
    "pipe3 = Pipeline([\n",
    "    (\"scale\", QuantileTransformer(n_quantiles=500)),\n",
    "    (\"model\", LinearRegression())\n",
    "])"
   ]
  },
  {
   "cell_type": "code",
   "execution_count": 41,
   "metadata": {},
   "outputs": [],
   "source": [
    "pred_rfc = pipe.fit(X_train, y_train).predict(X_test)\n",
    "pred_knn = pipe2.fit(X_train, y_train).predict(X_test)\n",
    "pred_clf = pipe3.fit(X_train, y_train).predict(X_test)\n"
   ]
  },
  {
   "cell_type": "code",
   "execution_count": 42,
   "metadata": {},
   "outputs": [
    {
     "name": "stdout",
     "output_type": "stream",
     "text": [
      "              precision    recall  f1-score   support\n",
      "\n",
      "           0       0.84      0.83      0.83       156\n",
      "           1       0.65      0.67      0.66        75\n",
      "\n",
      "    accuracy                           0.77       231\n",
      "   macro avg       0.74      0.75      0.75       231\n",
      "weighted avg       0.78      0.77      0.78       231\n",
      "\n",
      "              precision    recall  f1-score   support\n",
      "\n",
      "           0       0.80      0.80      0.80       156\n",
      "           1       0.58      0.57      0.58        75\n",
      "\n",
      "    accuracy                           0.73       231\n",
      "   macro avg       0.69      0.69      0.69       231\n",
      "weighted avg       0.73      0.73      0.73       231\n",
      "\n",
      "              precision    recall  f1-score   support\n",
      "\n",
      "           0       0.83      0.88      0.85       156\n",
      "           1       0.71      0.61      0.66        75\n",
      "\n",
      "    accuracy                           0.79       231\n",
      "   macro avg       0.77      0.75      0.75       231\n",
      "weighted avg       0.79      0.79      0.79       231\n",
      "\n"
     ]
    }
   ],
   "source": [
    "print(classification_report(y_test, pred_rfc))\n",
    "print(classification_report(y_test,  np.round(abs(pred_knn))))\n",
    "print(classification_report(y_test, np.round(abs(pred_clf))))"
   ]
  },
  {
   "cell_type": "code",
   "execution_count": 43,
   "metadata": {},
   "outputs": [
    {
     "data": {
      "text/plain": [
       "<matplotlib.legend.Legend at 0x7dc2322f40>"
      ]
     },
     "execution_count": 43,
     "metadata": {},
     "output_type": "execute_result"
    },
    {
     "data": {
      "image/png": "[encoded data removed]",
      "text/plain": [
       "<Figure size 432x288 with 1 Axes>"
      ]
     },
     "metadata": {
      "needs_background": "light"
     },
     "output_type": "display_data"
    }
   ],
   "source": [
    "recall_list=[]\n",
    "accuracy_list = []\n",
    "indexs = [1,2,3]\n",
    "recall_list.append(recall_score(y_test,pred_rfc))\n",
    "recall_list.append(recall_score(y_test,  np.round(abs(pred_knn))))\n",
    "recall_list.append(recall_score(y_test,  np.round(abs(pred_clf))))\n",
    "accuracy_list.append(accuracy_score(y_test,pred_rfc))\n",
    "accuracy_list.append(accuracy_score(y_test,  np.round(abs(pred_knn))))\n",
    "accuracy_list.append(accuracy_score(y_test,  np.round(abs(pred_clf))))\n",
    "plt.plot(indexs, recall_list, label=\"recall\")\n",
    "plt.plot(indexs, accuracy_list, label=\"accuracy\")\n",
    "plt.ylabel(\"score\")\n",
    "plt.xlabel(\"indexs\")\n",
    "plt.legend()"
   ]
  },
  {
   "cell_type": "code",
   "execution_count": 44,
   "metadata": {},
   "outputs": [
    {
     "data": {
      "text/plain": [
       "[0.6666666666666666, 0.5733333333333334, 0.6133333333333333]"
      ]
     },
     "execution_count": 44,
     "metadata": {},
     "output_type": "execute_result"
    }
   ],
   "source": [
    "recall_list"
   ]
  },
  {
   "cell_type": "markdown",
   "metadata": {},
   "source": [
    "transformation with polynomialFeatures"
   ]
  },
  {
   "cell_type": "code",
   "execution_count": 46,
   "metadata": {},
   "outputs": [],
   "source": [
    "pipe = Pipeline([\n",
    "    (\"scale\", PolynomialFeatures()),\n",
    "    (\"model\", RandomForestClassifier())\n",
    "])\n",
    "pipe2 = Pipeline([\n",
    "    (\"scale\", PolynomialFeatures()),\n",
    "    (\"model\", KNeighborsRegressor())\n",
    "])\n",
    "pipe3 = Pipeline([\n",
    "    (\"scale\", PolynomialFeatures()),\n",
    "    (\"model\", LinearRegression())\n",
    "])"
   ]
  },
  {
   "cell_type": "code",
   "execution_count": 47,
   "metadata": {},
   "outputs": [],
   "source": [
    "pred_rfc = pipe.fit(X_train, y_train).predict(X_test)\n",
    "pred_knn = pipe2.fit(X_train, y_train).predict(X_test)\n",
    "pred_clf = pipe3.fit(X_train, y_train).predict(X_test)"
   ]
  },
  {
   "cell_type": "code",
   "execution_count": 56,
   "metadata": {},
   "outputs": [
    {
     "name": "stdout",
     "output_type": "stream",
     "text": [
      "              precision    recall  f1-score   support\n",
      "\n",
      "           0       0.83      0.84      0.83       156\n",
      "           1       0.66      0.64      0.65        75\n",
      "\n",
      "    accuracy                           0.77       231\n",
      "   macro avg       0.74      0.74      0.74       231\n",
      "weighted avg       0.77      0.77      0.77       231\n",
      "\n",
      "[[131  25]\n",
      " [ 27  48]]\n",
      "              precision    recall  f1-score   support\n",
      "\n",
      "           0       0.78      0.80      0.79       156\n",
      "           1       0.56      0.52      0.54        75\n",
      "\n",
      "    accuracy                           0.71       231\n",
      "   macro avg       0.67      0.66      0.66       231\n",
      "weighted avg       0.71      0.71      0.71       231\n",
      "\n",
      "[[125  31]\n",
      " [ 36  39]]\n",
      "              precision    recall  f1-score   support\n",
      "\n",
      "         0.0       0.82      0.86      0.84       156\n",
      "         1.0       0.66      0.57      0.61        75\n",
      "         2.0       0.00      0.00      0.00         0\n",
      "\n",
      "    accuracy                           0.77       231\n",
      "   macro avg       0.49      0.48      0.48       231\n",
      "weighted avg       0.77      0.77      0.77       231\n",
      "\n",
      "[[134  22   0]\n",
      " [ 29  43   3]\n",
      " [  0   0   0]]\n"
     ]
    },
    {
     "name": "stderr",
     "output_type": "stream",
     "text": [
      "C:\\Users\\Bonas Nelson\\AppData\\Local\\Programs\\Python\\Python39\\lib\\site-packages\\sklearn\\metrics\\_classification.py:1318: UndefinedMetricWarning: Recall and F-score are ill-defined and being set to 0.0 in labels with no true samples. Use `zero_division` parameter to control this behavior.\n",
      "  _warn_prf(average, modifier, msg_start, len(result))\n",
      "C:\\Users\\Bonas Nelson\\AppData\\Local\\Programs\\Python\\Python39\\lib\\site-packages\\sklearn\\metrics\\_classification.py:1318: UndefinedMetricWarning: Recall and F-score are ill-defined and being set to 0.0 in labels with no true samples. Use `zero_division` parameter to control this behavior.\n",
      "  _warn_prf(average, modifier, msg_start, len(result))\n",
      "C:\\Users\\Bonas Nelson\\AppData\\Local\\Programs\\Python\\Python39\\lib\\site-packages\\sklearn\\metrics\\_classification.py:1318: UndefinedMetricWarning: Recall and F-score are ill-defined and being set to 0.0 in labels with no true samples. Use `zero_division` parameter to control this behavior.\n",
      "  _warn_prf(average, modifier, msg_start, len(result))\n"
     ]
    }
   ],
   "source": [
    "print(classification_report(y_test, pred_rfc))\n",
    "print(confusion_matrix(y_test, pred_rfc))\n",
    "print(classification_report(y_test,  np.round(abs(pred_knn))))\n",
    "print(confusion_matrix(y_test,  np.round(abs(pred_knn))))\n",
    "print(classification_report(y_test, np.round(abs(pred_clf))))\n",
    "print(confusion_matrix(y_test, np.round(abs(pred_clf))))"
   ]
  },
  {
   "cell_type": "code",
   "execution_count": 54,
   "metadata": {},
   "outputs": [
    {
     "data": {
      "text/plain": [
       "<matplotlib.legend.Legend at 0x7dc34c44c0>"
      ]
     },
     "execution_count": 54,
     "metadata": {},
     "output_type": "execute_result"
    },
    {
     "data": {
      "image/png": "[encoded data removed]",
      "text/plain": [
       "<Figure size 432x288 with 1 Axes>"
      ]
     },
     "metadata": {
      "needs_background": "light"
     },
     "output_type": "display_data"
    }
   ],
   "source": [
    "recall_list=[]\n",
    "accuracy_list = []\n",
    "indexs = [1,2,3]\n",
    "recall_list.append(recall_score(y_test,pred_rfc))\n",
    "recall_list.append(recall_score(y_test,  np.round(abs(pred_knn))))\n",
    "recall_list.append(recall_score(y_test,  np.round(abs(pred_clf)), average='micro'))\n",
    "accuracy_list.append(accuracy_score(y_test,pred_rfc))\n",
    "accuracy_list.append(accuracy_score(y_test,  np.round(abs(pred_knn))))\n",
    "accuracy_list.append(accuracy_score(y_test,  np.round(abs(pred_clf))))\n",
    "plt.plot(indexs, recall_list, label=\"recall\")\n",
    "plt.plot(indexs, accuracy_list, label=\"accuracy\")\n",
    "plt.ylabel(\"score\")\n",
    "plt.xlabel(\"indexs\")\n",
    "plt.legend()"
   ]
  },
  {
   "cell_type": "code",
   "execution_count": 55,
   "metadata": {},
   "outputs": [
    {
     "name": "stdout",
     "output_type": "stream",
     "text": [
      "[0.64, 0.52, 0.7662337662337663]\n",
      "[0.7748917748917749, 0.70995670995671, 0.7662337662337663]\n"
     ]
    }
   ],
   "source": [
    "print(recall_list)\n",
    "print(accuracy_list)"
   ]
  }
 ],
 "metadata": {
  "interpreter": {
   "hash": "aa7146d4c1a12161272e7931a5de19d4c46ea1ea93acbb11666f6ac8b35f8224"
  },
  "kernelspec": {
   "display_name": "Python 3.9.2 64-bit",
   "language": "python",
   "name": "python3"
  },
  "language_info": {
   "codemirror_mode": {
    "name": "ipython",
    "version": 3
   },
   "file_extension": ".py",
   "mimetype": "text/x-python",
   "name": "python",
   "nbconvert_exporter": "python",
   "pygments_lexer": "ipython3",
   "version": "3.9.2"
  },
  "orig_nbformat": 4
 },
 "nbformat": 4,
 "nbformat_minor": 2
}
